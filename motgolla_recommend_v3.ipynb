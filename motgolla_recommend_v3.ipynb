{
  "nbformat": 4,
  "nbformat_minor": 0,
  "metadata": {
    "colab": {
      "provenance": [],
      "gpuType": "T4"
    },
    "kernelspec": {
      "name": "python3",
      "display_name": "Python 3"
    },
    "language_info": {
      "name": "python"
    },
    "accelerator": "GPU"
  },
  "cells": [
    {
      "cell_type": "markdown",
      "source": [
        "# 상품 추천 결과 생성 및 DB 입력용 데이터 추출"
      ],
      "metadata": {
        "id": "bzSdanjI7eTH"
      }
    },
    {
      "cell_type": "markdown",
      "source": [
        "# Step 1: 필요한 라이브러리 설치"
      ],
      "metadata": {
        "id": "cTSC5lds7VS3"
      }
    },
    {
      "cell_type": "code",
      "execution_count": 1,
      "metadata": {
        "colab": {
          "base_uri": "https://localhost:8080/"
        },
        "id": "Nn3UAnYstZT1",
        "outputId": "460ad6bf-c860-428b-ea49-18970cf2f8e8",
        "collapsed": true
      },
      "outputs": [
        {
          "output_type": "stream",
          "name": "stdout",
          "text": [
            "Requirement already satisfied: transformers in /usr/local/lib/python3.11/dist-packages (4.54.1)\n",
            "Requirement already satisfied: filelock in /usr/local/lib/python3.11/dist-packages (from transformers) (3.18.0)\n",
            "Requirement already satisfied: huggingface-hub<1.0,>=0.34.0 in /usr/local/lib/python3.11/dist-packages (from transformers) (0.34.3)\n",
            "Requirement already satisfied: numpy>=1.17 in /usr/local/lib/python3.11/dist-packages (from transformers) (2.0.2)\n",
            "Requirement already satisfied: packaging>=20.0 in /usr/local/lib/python3.11/dist-packages (from transformers) (25.0)\n",
            "Requirement already satisfied: pyyaml>=5.1 in /usr/local/lib/python3.11/dist-packages (from transformers) (6.0.2)\n",
            "Requirement already satisfied: regex!=2019.12.17 in /usr/local/lib/python3.11/dist-packages (from transformers) (2024.11.6)\n",
            "Requirement already satisfied: requests in /usr/local/lib/python3.11/dist-packages (from transformers) (2.32.3)\n",
            "Requirement already satisfied: tokenizers<0.22,>=0.21 in /usr/local/lib/python3.11/dist-packages (from transformers) (0.21.4)\n",
            "Requirement already satisfied: safetensors>=0.4.3 in /usr/local/lib/python3.11/dist-packages (from transformers) (0.5.3)\n",
            "Requirement already satisfied: tqdm>=4.27 in /usr/local/lib/python3.11/dist-packages (from transformers) (4.67.1)\n",
            "Requirement already satisfied: fsspec>=2023.5.0 in /usr/local/lib/python3.11/dist-packages (from huggingface-hub<1.0,>=0.34.0->transformers) (2025.3.0)\n",
            "Requirement already satisfied: typing-extensions>=3.7.4.3 in /usr/local/lib/python3.11/dist-packages (from huggingface-hub<1.0,>=0.34.0->transformers) (4.14.1)\n",
            "Requirement already satisfied: hf-xet<2.0.0,>=1.1.3 in /usr/local/lib/python3.11/dist-packages (from huggingface-hub<1.0,>=0.34.0->transformers) (1.1.5)\n",
            "Requirement already satisfied: charset-normalizer<4,>=2 in /usr/local/lib/python3.11/dist-packages (from requests->transformers) (3.4.2)\n",
            "Requirement already satisfied: idna<4,>=2.5 in /usr/local/lib/python3.11/dist-packages (from requests->transformers) (3.10)\n",
            "Requirement already satisfied: urllib3<3,>=1.21.1 in /usr/local/lib/python3.11/dist-packages (from requests->transformers) (2.5.0)\n",
            "Requirement already satisfied: certifi>=2017.4.17 in /usr/local/lib/python3.11/dist-packages (from requests->transformers) (2025.7.14)\n",
            "Requirement already satisfied: sentence-transformers in /usr/local/lib/python3.11/dist-packages (4.1.0)\n",
            "Requirement already satisfied: transformers<5.0.0,>=4.41.0 in /usr/local/lib/python3.11/dist-packages (from sentence-transformers) (4.54.1)\n",
            "Requirement already satisfied: tqdm in /usr/local/lib/python3.11/dist-packages (from sentence-transformers) (4.67.1)\n",
            "Requirement already satisfied: torch>=1.11.0 in /usr/local/lib/python3.11/dist-packages (from sentence-transformers) (2.6.0+cu124)\n",
            "Requirement already satisfied: scikit-learn in /usr/local/lib/python3.11/dist-packages (from sentence-transformers) (1.6.1)\n",
            "Requirement already satisfied: scipy in /usr/local/lib/python3.11/dist-packages (from sentence-transformers) (1.16.1)\n",
            "Requirement already satisfied: huggingface-hub>=0.20.0 in /usr/local/lib/python3.11/dist-packages (from sentence-transformers) (0.34.3)\n",
            "Requirement already satisfied: Pillow in /usr/local/lib/python3.11/dist-packages (from sentence-transformers) (11.3.0)\n",
            "Requirement already satisfied: typing_extensions>=4.5.0 in /usr/local/lib/python3.11/dist-packages (from sentence-transformers) (4.14.1)\n",
            "Requirement already satisfied: filelock in /usr/local/lib/python3.11/dist-packages (from huggingface-hub>=0.20.0->sentence-transformers) (3.18.0)\n",
            "Requirement already satisfied: fsspec>=2023.5.0 in /usr/local/lib/python3.11/dist-packages (from huggingface-hub>=0.20.0->sentence-transformers) (2025.3.0)\n",
            "Requirement already satisfied: packaging>=20.9 in /usr/local/lib/python3.11/dist-packages (from huggingface-hub>=0.20.0->sentence-transformers) (25.0)\n",
            "Requirement already satisfied: pyyaml>=5.1 in /usr/local/lib/python3.11/dist-packages (from huggingface-hub>=0.20.0->sentence-transformers) (6.0.2)\n",
            "Requirement already satisfied: requests in /usr/local/lib/python3.11/dist-packages (from huggingface-hub>=0.20.0->sentence-transformers) (2.32.3)\n",
            "Requirement already satisfied: hf-xet<2.0.0,>=1.1.3 in /usr/local/lib/python3.11/dist-packages (from huggingface-hub>=0.20.0->sentence-transformers) (1.1.5)\n",
            "Requirement already satisfied: networkx in /usr/local/lib/python3.11/dist-packages (from torch>=1.11.0->sentence-transformers) (3.5)\n",
            "Requirement already satisfied: jinja2 in /usr/local/lib/python3.11/dist-packages (from torch>=1.11.0->sentence-transformers) (3.1.6)\n",
            "Collecting nvidia-cuda-nvrtc-cu12==12.4.127 (from torch>=1.11.0->sentence-transformers)\n",
            "  Downloading nvidia_cuda_nvrtc_cu12-12.4.127-py3-none-manylinux2014_x86_64.whl.metadata (1.5 kB)\n",
            "Collecting nvidia-cuda-runtime-cu12==12.4.127 (from torch>=1.11.0->sentence-transformers)\n",
            "  Downloading nvidia_cuda_runtime_cu12-12.4.127-py3-none-manylinux2014_x86_64.whl.metadata (1.5 kB)\n",
            "Collecting nvidia-cuda-cupti-cu12==12.4.127 (from torch>=1.11.0->sentence-transformers)\n",
            "  Downloading nvidia_cuda_cupti_cu12-12.4.127-py3-none-manylinux2014_x86_64.whl.metadata (1.6 kB)\n",
            "Collecting nvidia-cudnn-cu12==9.1.0.70 (from torch>=1.11.0->sentence-transformers)\n",
            "  Downloading nvidia_cudnn_cu12-9.1.0.70-py3-none-manylinux2014_x86_64.whl.metadata (1.6 kB)\n",
            "Collecting nvidia-cublas-cu12==12.4.5.8 (from torch>=1.11.0->sentence-transformers)\n",
            "  Downloading nvidia_cublas_cu12-12.4.5.8-py3-none-manylinux2014_x86_64.whl.metadata (1.5 kB)\n",
            "Collecting nvidia-cufft-cu12==11.2.1.3 (from torch>=1.11.0->sentence-transformers)\n",
            "  Downloading nvidia_cufft_cu12-11.2.1.3-py3-none-manylinux2014_x86_64.whl.metadata (1.5 kB)\n",
            "Collecting nvidia-curand-cu12==10.3.5.147 (from torch>=1.11.0->sentence-transformers)\n",
            "  Downloading nvidia_curand_cu12-10.3.5.147-py3-none-manylinux2014_x86_64.whl.metadata (1.5 kB)\n",
            "Collecting nvidia-cusolver-cu12==11.6.1.9 (from torch>=1.11.0->sentence-transformers)\n",
            "  Downloading nvidia_cusolver_cu12-11.6.1.9-py3-none-manylinux2014_x86_64.whl.metadata (1.6 kB)\n",
            "Collecting nvidia-cusparse-cu12==12.3.1.170 (from torch>=1.11.0->sentence-transformers)\n",
            "  Downloading nvidia_cusparse_cu12-12.3.1.170-py3-none-manylinux2014_x86_64.whl.metadata (1.6 kB)\n",
            "Requirement already satisfied: nvidia-cusparselt-cu12==0.6.2 in /usr/local/lib/python3.11/dist-packages (from torch>=1.11.0->sentence-transformers) (0.6.2)\n",
            "Requirement already satisfied: nvidia-nccl-cu12==2.21.5 in /usr/local/lib/python3.11/dist-packages (from torch>=1.11.0->sentence-transformers) (2.21.5)\n",
            "Requirement already satisfied: nvidia-nvtx-cu12==12.4.127 in /usr/local/lib/python3.11/dist-packages (from torch>=1.11.0->sentence-transformers) (12.4.127)\n",
            "Collecting nvidia-nvjitlink-cu12==12.4.127 (from torch>=1.11.0->sentence-transformers)\n",
            "  Downloading nvidia_nvjitlink_cu12-12.4.127-py3-none-manylinux2014_x86_64.whl.metadata (1.5 kB)\n",
            "Requirement already satisfied: triton==3.2.0 in /usr/local/lib/python3.11/dist-packages (from torch>=1.11.0->sentence-transformers) (3.2.0)\n",
            "Requirement already satisfied: sympy==1.13.1 in /usr/local/lib/python3.11/dist-packages (from torch>=1.11.0->sentence-transformers) (1.13.1)\n",
            "Requirement already satisfied: mpmath<1.4,>=1.1.0 in /usr/local/lib/python3.11/dist-packages (from sympy==1.13.1->torch>=1.11.0->sentence-transformers) (1.3.0)\n",
            "Requirement already satisfied: numpy>=1.17 in /usr/local/lib/python3.11/dist-packages (from transformers<5.0.0,>=4.41.0->sentence-transformers) (2.0.2)\n",
            "Requirement already satisfied: regex!=2019.12.17 in /usr/local/lib/python3.11/dist-packages (from transformers<5.0.0,>=4.41.0->sentence-transformers) (2024.11.6)\n",
            "Requirement already satisfied: tokenizers<0.22,>=0.21 in /usr/local/lib/python3.11/dist-packages (from transformers<5.0.0,>=4.41.0->sentence-transformers) (0.21.4)\n",
            "Requirement already satisfied: safetensors>=0.4.3 in /usr/local/lib/python3.11/dist-packages (from transformers<5.0.0,>=4.41.0->sentence-transformers) (0.5.3)\n",
            "Requirement already satisfied: joblib>=1.2.0 in /usr/local/lib/python3.11/dist-packages (from scikit-learn->sentence-transformers) (1.5.1)\n",
            "Requirement already satisfied: threadpoolctl>=3.1.0 in /usr/local/lib/python3.11/dist-packages (from scikit-learn->sentence-transformers) (3.6.0)\n",
            "Requirement already satisfied: MarkupSafe>=2.0 in /usr/local/lib/python3.11/dist-packages (from jinja2->torch>=1.11.0->sentence-transformers) (3.0.2)\n",
            "Requirement already satisfied: charset-normalizer<4,>=2 in /usr/local/lib/python3.11/dist-packages (from requests->huggingface-hub>=0.20.0->sentence-transformers) (3.4.2)\n",
            "Requirement already satisfied: idna<4,>=2.5 in /usr/local/lib/python3.11/dist-packages (from requests->huggingface-hub>=0.20.0->sentence-transformers) (3.10)\n",
            "Requirement already satisfied: urllib3<3,>=1.21.1 in /usr/local/lib/python3.11/dist-packages (from requests->huggingface-hub>=0.20.0->sentence-transformers) (2.5.0)\n",
            "Requirement already satisfied: certifi>=2017.4.17 in /usr/local/lib/python3.11/dist-packages (from requests->huggingface-hub>=0.20.0->sentence-transformers) (2025.7.14)\n",
            "Downloading nvidia_cublas_cu12-12.4.5.8-py3-none-manylinux2014_x86_64.whl (363.4 MB)\n",
            "\u001b[2K   \u001b[90m━━━━━━━━━━━━━━━━━━━━━━━━━━━━━━━━━━━━━━━━\u001b[0m \u001b[32m363.4/363.4 MB\u001b[0m \u001b[31m4.0 MB/s\u001b[0m eta \u001b[36m0:00:00\u001b[0m\n",
            "\u001b[?25hDownloading nvidia_cuda_cupti_cu12-12.4.127-py3-none-manylinux2014_x86_64.whl (13.8 MB)\n",
            "\u001b[2K   \u001b[90m━━━━━━━━━━━━━━━━━━━━━━━━━━━━━━━━━━━━━━━━\u001b[0m \u001b[32m13.8/13.8 MB\u001b[0m \u001b[31m56.9 MB/s\u001b[0m eta \u001b[36m0:00:00\u001b[0m\n",
            "\u001b[?25hDownloading nvidia_cuda_nvrtc_cu12-12.4.127-py3-none-manylinux2014_x86_64.whl (24.6 MB)\n",
            "\u001b[2K   \u001b[90m━━━━━━━━━━━━━━━━━━━━━━━━━━━━━━━━━━━━━━━━\u001b[0m \u001b[32m24.6/24.6 MB\u001b[0m \u001b[31m30.7 MB/s\u001b[0m eta \u001b[36m0:00:00\u001b[0m\n",
            "\u001b[?25hDownloading nvidia_cuda_runtime_cu12-12.4.127-py3-none-manylinux2014_x86_64.whl (883 kB)\n",
            "\u001b[2K   \u001b[90m━━━━━━━━━━━━━━━━━━━━━━━━━━━━━━━━━━━━━━━━\u001b[0m \u001b[32m883.7/883.7 kB\u001b[0m \u001b[31m41.7 MB/s\u001b[0m eta \u001b[36m0:00:00\u001b[0m\n",
            "\u001b[?25hDownloading nvidia_cudnn_cu12-9.1.0.70-py3-none-manylinux2014_x86_64.whl (664.8 MB)\n",
            "\u001b[2K   \u001b[90m━━━━━━━━━━━━━━━━━━━━━━━━━━━━━━━━━━━━━━━━\u001b[0m \u001b[32m664.8/664.8 MB\u001b[0m \u001b[31m2.9 MB/s\u001b[0m eta \u001b[36m0:00:00\u001b[0m\n",
            "\u001b[?25hDownloading nvidia_cufft_cu12-11.2.1.3-py3-none-manylinux2014_x86_64.whl (211.5 MB)\n",
            "\u001b[2K   \u001b[90m━━━━━━━━━━━━━━━━━━━━━━━━━━━━━━━━━━━━━━━━\u001b[0m \u001b[32m211.5/211.5 MB\u001b[0m \u001b[31m6.1 MB/s\u001b[0m eta \u001b[36m0:00:00\u001b[0m\n",
            "\u001b[?25hDownloading nvidia_curand_cu12-10.3.5.147-py3-none-manylinux2014_x86_64.whl (56.3 MB)\n",
            "\u001b[2K   \u001b[90m━━━━━━━━━━━━━━━━━━━━━━━━━━━━━━━━━━━━━━━━\u001b[0m \u001b[32m56.3/56.3 MB\u001b[0m \u001b[31m10.4 MB/s\u001b[0m eta \u001b[36m0:00:00\u001b[0m\n",
            "\u001b[?25hDownloading nvidia_cusolver_cu12-11.6.1.9-py3-none-manylinux2014_x86_64.whl (127.9 MB)\n",
            "\u001b[2K   \u001b[90m━━━━━━━━━━━━━━━━━━━━━━━━━━━━━━━━━━━━━━━━\u001b[0m \u001b[32m127.9/127.9 MB\u001b[0m \u001b[31m9.2 MB/s\u001b[0m eta \u001b[36m0:00:00\u001b[0m\n",
            "\u001b[?25hDownloading nvidia_cusparse_cu12-12.3.1.170-py3-none-manylinux2014_x86_64.whl (207.5 MB)\n",
            "\u001b[2K   \u001b[90m━━━━━━━━━━━━━━━━━━━━━━━━━━━━━━━━━━━━━━━━\u001b[0m \u001b[32m207.5/207.5 MB\u001b[0m \u001b[31m6.9 MB/s\u001b[0m eta \u001b[36m0:00:00\u001b[0m\n",
            "\u001b[?25hDownloading nvidia_nvjitlink_cu12-12.4.127-py3-none-manylinux2014_x86_64.whl (21.1 MB)\n",
            "\u001b[2K   \u001b[90m━━━━━━━━━━━━━━━━━━━━━━━━━━━━━━━━━━━━━━━━\u001b[0m \u001b[32m21.1/21.1 MB\u001b[0m \u001b[31m48.7 MB/s\u001b[0m eta \u001b[36m0:00:00\u001b[0m\n",
            "\u001b[?25hInstalling collected packages: nvidia-nvjitlink-cu12, nvidia-curand-cu12, nvidia-cufft-cu12, nvidia-cuda-runtime-cu12, nvidia-cuda-nvrtc-cu12, nvidia-cuda-cupti-cu12, nvidia-cublas-cu12, nvidia-cusparse-cu12, nvidia-cudnn-cu12, nvidia-cusolver-cu12\n",
            "  Attempting uninstall: nvidia-nvjitlink-cu12\n",
            "    Found existing installation: nvidia-nvjitlink-cu12 12.5.82\n",
            "    Uninstalling nvidia-nvjitlink-cu12-12.5.82:\n",
            "      Successfully uninstalled nvidia-nvjitlink-cu12-12.5.82\n",
            "  Attempting uninstall: nvidia-curand-cu12\n",
            "    Found existing installation: nvidia-curand-cu12 10.3.6.82\n",
            "    Uninstalling nvidia-curand-cu12-10.3.6.82:\n",
            "      Successfully uninstalled nvidia-curand-cu12-10.3.6.82\n",
            "  Attempting uninstall: nvidia-cufft-cu12\n",
            "    Found existing installation: nvidia-cufft-cu12 11.2.3.61\n",
            "    Uninstalling nvidia-cufft-cu12-11.2.3.61:\n",
            "      Successfully uninstalled nvidia-cufft-cu12-11.2.3.61\n",
            "  Attempting uninstall: nvidia-cuda-runtime-cu12\n",
            "    Found existing installation: nvidia-cuda-runtime-cu12 12.5.82\n",
            "    Uninstalling nvidia-cuda-runtime-cu12-12.5.82:\n",
            "      Successfully uninstalled nvidia-cuda-runtime-cu12-12.5.82\n",
            "  Attempting uninstall: nvidia-cuda-nvrtc-cu12\n",
            "    Found existing installation: nvidia-cuda-nvrtc-cu12 12.5.82\n",
            "    Uninstalling nvidia-cuda-nvrtc-cu12-12.5.82:\n",
            "      Successfully uninstalled nvidia-cuda-nvrtc-cu12-12.5.82\n",
            "  Attempting uninstall: nvidia-cuda-cupti-cu12\n",
            "    Found existing installation: nvidia-cuda-cupti-cu12 12.5.82\n",
            "    Uninstalling nvidia-cuda-cupti-cu12-12.5.82:\n",
            "      Successfully uninstalled nvidia-cuda-cupti-cu12-12.5.82\n",
            "  Attempting uninstall: nvidia-cublas-cu12\n",
            "    Found existing installation: nvidia-cublas-cu12 12.5.3.2\n",
            "    Uninstalling nvidia-cublas-cu12-12.5.3.2:\n",
            "      Successfully uninstalled nvidia-cublas-cu12-12.5.3.2\n",
            "  Attempting uninstall: nvidia-cusparse-cu12\n",
            "    Found existing installation: nvidia-cusparse-cu12 12.5.1.3\n",
            "    Uninstalling nvidia-cusparse-cu12-12.5.1.3:\n",
            "      Successfully uninstalled nvidia-cusparse-cu12-12.5.1.3\n",
            "  Attempting uninstall: nvidia-cudnn-cu12\n",
            "    Found existing installation: nvidia-cudnn-cu12 9.3.0.75\n",
            "    Uninstalling nvidia-cudnn-cu12-9.3.0.75:\n",
            "      Successfully uninstalled nvidia-cudnn-cu12-9.3.0.75\n",
            "  Attempting uninstall: nvidia-cusolver-cu12\n",
            "    Found existing installation: nvidia-cusolver-cu12 11.6.3.83\n",
            "    Uninstalling nvidia-cusolver-cu12-11.6.3.83:\n",
            "      Successfully uninstalled nvidia-cusolver-cu12-11.6.3.83\n",
            "Successfully installed nvidia-cublas-cu12-12.4.5.8 nvidia-cuda-cupti-cu12-12.4.127 nvidia-cuda-nvrtc-cu12-12.4.127 nvidia-cuda-runtime-cu12-12.4.127 nvidia-cudnn-cu12-9.1.0.70 nvidia-cufft-cu12-11.2.1.3 nvidia-curand-cu12-10.3.5.147 nvidia-cusolver-cu12-11.6.1.9 nvidia-cusparse-cu12-12.3.1.170 nvidia-nvjitlink-cu12-12.4.127\n",
            "Requirement already satisfied: torch in /usr/local/lib/python3.11/dist-packages (2.6.0+cu124)\n",
            "Requirement already satisfied: filelock in /usr/local/lib/python3.11/dist-packages (from torch) (3.18.0)\n",
            "Requirement already satisfied: typing-extensions>=4.10.0 in /usr/local/lib/python3.11/dist-packages (from torch) (4.14.1)\n",
            "Requirement already satisfied: networkx in /usr/local/lib/python3.11/dist-packages (from torch) (3.5)\n",
            "Requirement already satisfied: jinja2 in /usr/local/lib/python3.11/dist-packages (from torch) (3.1.6)\n",
            "Requirement already satisfied: fsspec in /usr/local/lib/python3.11/dist-packages (from torch) (2025.3.0)\n",
            "Requirement already satisfied: nvidia-cuda-nvrtc-cu12==12.4.127 in /usr/local/lib/python3.11/dist-packages (from torch) (12.4.127)\n",
            "Requirement already satisfied: nvidia-cuda-runtime-cu12==12.4.127 in /usr/local/lib/python3.11/dist-packages (from torch) (12.4.127)\n",
            "Requirement already satisfied: nvidia-cuda-cupti-cu12==12.4.127 in /usr/local/lib/python3.11/dist-packages (from torch) (12.4.127)\n",
            "Requirement already satisfied: nvidia-cudnn-cu12==9.1.0.70 in /usr/local/lib/python3.11/dist-packages (from torch) (9.1.0.70)\n",
            "Requirement already satisfied: nvidia-cublas-cu12==12.4.5.8 in /usr/local/lib/python3.11/dist-packages (from torch) (12.4.5.8)\n",
            "Requirement already satisfied: nvidia-cufft-cu12==11.2.1.3 in /usr/local/lib/python3.11/dist-packages (from torch) (11.2.1.3)\n",
            "Requirement already satisfied: nvidia-curand-cu12==10.3.5.147 in /usr/local/lib/python3.11/dist-packages (from torch) (10.3.5.147)\n",
            "Requirement already satisfied: nvidia-cusolver-cu12==11.6.1.9 in /usr/local/lib/python3.11/dist-packages (from torch) (11.6.1.9)\n",
            "Requirement already satisfied: nvidia-cusparse-cu12==12.3.1.170 in /usr/local/lib/python3.11/dist-packages (from torch) (12.3.1.170)\n",
            "Requirement already satisfied: nvidia-cusparselt-cu12==0.6.2 in /usr/local/lib/python3.11/dist-packages (from torch) (0.6.2)\n",
            "Requirement already satisfied: nvidia-nccl-cu12==2.21.5 in /usr/local/lib/python3.11/dist-packages (from torch) (2.21.5)\n",
            "Requirement already satisfied: nvidia-nvtx-cu12==12.4.127 in /usr/local/lib/python3.11/dist-packages (from torch) (12.4.127)\n",
            "Requirement already satisfied: nvidia-nvjitlink-cu12==12.4.127 in /usr/local/lib/python3.11/dist-packages (from torch) (12.4.127)\n",
            "Requirement already satisfied: triton==3.2.0 in /usr/local/lib/python3.11/dist-packages (from torch) (3.2.0)\n",
            "Requirement already satisfied: sympy==1.13.1 in /usr/local/lib/python3.11/dist-packages (from torch) (1.13.1)\n",
            "Requirement already satisfied: mpmath<1.4,>=1.1.0 in /usr/local/lib/python3.11/dist-packages (from sympy==1.13.1->torch) (1.3.0)\n",
            "Requirement already satisfied: MarkupSafe>=2.0 in /usr/local/lib/python3.11/dist-packages (from jinja2->torch) (3.0.2)\n",
            "Requirement already satisfied: Pillow in /usr/local/lib/python3.11/dist-packages (11.3.0)\n",
            "Requirement already satisfied: tqdm in /usr/local/lib/python3.11/dist-packages (4.67.1)\n"
          ]
        }
      ],
      "source": [
        "!pip install transformers\n",
        "!pip install sentence-transformers\n",
        "!pip install torch\n",
        "!pip install Pillow\n",
        "!pip install tqdm\n"
      ]
    },
    {
      "cell_type": "markdown",
      "source": [
        "#  Step 2: CSV 파일 업로드\n"
      ],
      "metadata": {
        "id": "1gs2Hi9vuDmT"
      }
    },
    {
      "cell_type": "code",
      "source": [
        "# from google.colab import files\n",
        "# uploaded = files.upload()"
      ],
      "metadata": {
        "id": "_lky_quJt7WQ"
      },
      "execution_count": 2,
      "outputs": []
    },
    {
      "cell_type": "markdown",
      "source": [
        "# Step 3: 데이터 불러오기 및 전처리"
      ],
      "metadata": {
        "id": "LUY4zIa_uOuz"
      }
    },
    {
      "cell_type": "code",
      "source": [
        "import pandas as pd\n",
        "from sklearn.preprocessing import MinMaxScaler\n",
        "\n",
        "# 데이터 로드\n",
        "df = pd.read_csv(\"store_product_DB.csv\").fillna(\"\")\n",
        "df = df.fillna(\"\")  # NaN 방지\n",
        "\n",
        "# 가격 정규화\n",
        "scaler = MinMaxScaler()\n",
        "df[\"PRICE_SCALED\"] = scaler.fit_transform(df[[\"PRICE\"]])\n"
      ],
      "metadata": {
        "id": "vUnZnEnUuB6P"
      },
      "execution_count": 4,
      "outputs": []
    },
    {
      "cell_type": "markdown",
      "source": [
        "# Step 4: 모델 불러오기"
      ],
      "metadata": {
        "id": "j6ecyFcVuXtA"
      }
    },
    {
      "cell_type": "code",
      "source": [
        "from sentence_transformers import SentenceTransformer\n",
        "from transformers import CLIPProcessor, CLIPModel\n",
        "import torch\n",
        "from PIL import Image\n",
        "from io import BytesIO\n",
        "import numpy as np\n",
        "import requests\n",
        "from tqdm import tqdm\n",
        "\n",
        "kobert = SentenceTransformer('snunlp/KR-SBERT-V40K-klueNLI-augSTS')\n",
        "clip_model = CLIPModel.from_pretrained(\"openai/clip-vit-base-patch32\")\n",
        "clip_processor = CLIPProcessor.from_pretrained(\"openai/clip-vit-base-patch32\")\n"
      ],
      "metadata": {
        "colab": {
          "base_uri": "https://localhost:8080/",
          "height": 837,
          "referenced_widgets": [
            "6cd6f9203c4b4fefaabb00a95d62e9dd",
            "8db8724c86eb4092a4ad23a1f9ee9244",
            "c1fa7bbdd817407982e2254096614cce",
            "7a4615b976db4bff8b05ca0aaeb89098",
            "a7876772dca94769990fbc20f01c24f2",
            "eaa6572fe26944fa9e894ef409a5ee9d",
            "718ea27d0fd64b0ea107aed6f8ca1432",
            "7bac184da9464f619c6ddc52b190dd02",
            "4acd2ccc500440c1a04abbd8ca35855b",
            "2ee18fd1f6554a5d80f08b0343bb1820",
            "b4978a68ff8949f7ad13ccd85c2e202c",
            "a399f6279ccb4a49b798a2c1704f59c7",
            "e9300318b7bf4c43a79ee7c860129a43",
            "42f46cb9d0aa45c0bd32ccb0d60eb9fd",
            "f1cde341aacf4d3ab56da641a2b51cd9",
            "aa2bc3edae514f30a5b7865c4aad8e9d",
            "2a434f3658964a4c964e8f51bbfb01e7",
            "61bd94b76f6e4f5fbbe4da28cb4542df",
            "9151c7fe59904476bebe87b8e8cd239a",
            "6a91a1557de54696a12eba5e8087a7bd",
            "82b4455e1a6f4d1ab5d8c845cb06317f",
            "b3410aa7af8b4f949f6d51eb41fa794e",
            "3d21a81c66ee43a8bb401fb6399e92f3",
            "e99a87cd70e748ce9cb07cc41f7852cf",
            "fa13f399152b4008b12e0f0a722ce4ed",
            "4c8b9c505a044b41906bddd00f0a104a",
            "e7d9b6c3831a45a8aacca7b5a7a1ec64",
            "a9feb1a7fa974155ae6f325bf38fc7e5",
            "8293abca36b14aa997f7d1641291af32",
            "60bd9c46a4f94b6db2cb08b054b2e423",
            "318f714ac35345f5aeb484fc8db3296c",
            "e91cc7fd04ec421893fee8183d97346d",
            "3fb20303488c4f9bbd022cf3b8dfacf8",
            "610d142554c84654b57b305854092912",
            "114fad59da1644d09d9c5a5f4eb69ae0",
            "5f95c172ad5e4aa2a1a267bd08e42519",
            "5e235ca99035459c969c49a2d5054369",
            "dda4c49d916c4b6b82ffc7679a4b24eb",
            "8a8d4b1900344df48bdcbbb570f36ec7",
            "1ccdf36e247747fa9c6f3ca922e617f3",
            "8f7bf89a07ec4bf49df8b9f8386b0985",
            "336f489637ac4870901c2949d47c0028",
            "13f94d6f32294540829293f79e807662",
            "deb16d5236994c30b6c1ee91a4fe51bd",
            "8bb940f9b10e4c459b057bc28e3e720d",
            "a7f6c9e84d6d41a4a770ca543e850ca3",
            "2762ab22c00b404c9478c4ee5ce8135b",
            "5d9f2be9fec9450ba31c75e83a2ee11d",
            "df0265612d7642e9a1f3ae521b4aac17",
            "5e2f442a771c48b99634d053c38b15d2",
            "a70daaac13b24c8585c87a7e7e1756b4",
            "5563385ea1b042b2a2c509c975631c36",
            "fcb4ae90789d4b3c8cdf032881ee16ac",
            "8ec5fd9c5c8b4a10b965e1d8c694fe1b",
            "7df480ae934d4fa0a51a50606efbe3d2",
            "87889523478a464dbd99026b1c45ff06",
            "ed8eb7dc2dde415badc7ef439ee2b7eb",
            "9b06b070c5984b0b88cf688a7fec58f1",
            "63d1ed9fff2e49bdb755840b4f1174b9",
            "c705976502784d478804ea124d14fc4f",
            "7e76cfe42dd84da7b3fe92ebbc1d723e",
            "448221239bcc4ff296ae5c5ea42ce898",
            "252cb95db9f24cb1b8094f669a55d5b9",
            "291fb216a7c041ef8794df575fc0fd65",
            "f4025e3a29664274a0f24807756ed800",
            "80bcbf55ee474098a8f34de8197d9916",
            "cff085c6f14f4fdd82bac95289ab99d1",
            "afeb2231efe0496eb5686e138ace245d",
            "bff122783afa45c4857487304a64eb27",
            "0b8814c46e0e4eb09db10ea892030c60",
            "0c8b7b8337674a59af58ab4bd7a1c1aa",
            "cd1c842b265c472b940cefca55564b50",
            "4058c11a64ed4c5c891abacb65b26413",
            "871cfe56a1e54ab4a0f3545860af44b8",
            "00e85a1a3b5340fdbf24050919005f66",
            "acd9c6ed1e7f48928a8548f04ffc5a48",
            "b701224b647e4a7e85ef937acbe0affd",
            "f397f96ba34a48149abf5089c43e7ff0",
            "4ff97bada8a1458aad9e366dbd84c0f8",
            "56dca20a25844344a551275b7333ae1c",
            "be9d817ff1214cb7941d5af607074383",
            "9a213fde975d4977bea4a7d05f19f37a",
            "178615fbe84f4c738c018457bf96320f",
            "4ad78c126c9145ebacb27307f5efb660",
            "6421102df0b9497eb9e607d1b82219aa",
            "030acad86e044d4388fd21f01838ef2f",
            "8d5153e3cf444bf9a8431efcc63fc1b2",
            "760923474ce14c6aa01d1ff270aeda58",
            "dc007f9d638a4b80b09e5b819ddc875b",
            "ae8531bead384d4c90fd932365268cd6",
            "3079cdfb705447c6af93e7904ae55499",
            "dccc300c1e46471c8ef9da0d7cea5ba7",
            "5702da37594a46c1bd3448045528ad34",
            "1cc8dabe5fa147a1bc14f532e282bd37",
            "cb8f946a397e48afa7fa2c76f6a17c23",
            "7a677c5b903c40c89abdd7e51a892207",
            "bee674278a93482ca99155f9a10c1384",
            "33289584081f4c068e055e4a7999dc6c",
            "b7f18f249b76444eb91f996847525ab9",
            "ec66d9c0f8bd4603af7fe1d26d5b5a1c",
            "ed22f0373d574e27b06354ccc1452d7c",
            "c8a317bd3bfd42fe8be20177232eacd1",
            "69b66664a41c4bc585fcb6c4127ef7bd",
            "59b6a655615540929f160a765403aaea",
            "f97fb6e388a84836a7ffdf1dc49a0e38",
            "5da7b2b029684b5489363e3ed8aca2ec",
            "729a605516b14c53b8bf41bd97e36dda",
            "0b6741b480ec49acb0515b992f7146f8",
            "5b89c34c46ac4765a6591b7bceb2f1d5",
            "9da2a60bce2445af988cd8038f84fada",
            "8824c0e93aed4f6b92911b34f2185f5f",
            "8b9718c314964c8eb822d93d92203055",
            "f282d73ef63c481aa4e0cab07ef2c5b2",
            "cd8f897bbd9f4b0688183fc0a78e35b6",
            "54d14806c96f4fb598c717e0d56bcb2b",
            "9bb6434a70ba4986bd23884baa4590ca",
            "45de0c2406484d8fadff2b4f79a6b349",
            "a2b6dd30342145d6853e64711013555d",
            "4b035279d9804d5fa5b7bf89af111774",
            "ecc1058c37aa4f0b94d0819c43eeb1cc",
            "72c04062979846c4a0533cba05ef988e",
            "f83c2422cc7d4033b0930180243d92b3",
            "54b82333f4424c5dbb84f2d30601f2eb",
            "22a1158b9eee42a5b6a2e0b702c43a64",
            "594268ccd6cf4f59aba5fe8b8f96a4fa",
            "6aa980968bef4030abc0fed8c0c6a5a5",
            "b858e745ad19426fa58da24aa7e96847",
            "60242490df1645cda3440b02efbdc39e",
            "d6de89ea9f1949e0b233223037f5f24c",
            "84e6f655530b4067abf4405421c38c87",
            "99e9820dc1044f0e942ca995bdfc31f7",
            "929c8746137f4be0aec967bba15b174d",
            "4d6207f3d88e4f13879424d80f94d7fe",
            "405f8f629b4442c5bd1817cc9bbf8141",
            "152046793c6740e79fe7d6bd9591513c",
            "c2b282dc14894d178c7b18fc7b0e269d",
            "afe6253e9df54b819416aaf9d4bcb608",
            "e45e6b950886417c96926df5c3c50cf8",
            "9b582fc092d04642bd936885a019f621",
            "238faf62b5834e6a9632dc252202055a",
            "267491ca0c7646868445083a9a2da36a",
            "9dbe0858adfd443bb406c2218d367c76",
            "797bee072dc640ea86382bbf4fba874b",
            "c068af06b5224f538730b267cddb058d",
            "0bead3be2de9472d98c45d660499ea99",
            "84a8bc457b66489d9a9b78921e7a0333",
            "6420f4e58fab45bfb36a84c46333ddd6",
            "0b4e5bfe21064672b651a783ee5eade5",
            "d0f27ec781f14a4fbf48765285c8220b",
            "8ca9b6c04a0d4032bc627eab939f066a",
            "b2d039c16eba432fa3c4310cb255b412",
            "72ee0f8cfc8e4839948490ca070bd885",
            "f6aac0ab88704a7b902415c87390aa17",
            "791dbd26b21d4ea1828d9f3be1fded3b",
            "92fc197f6864457d8f6e4a7f8f21bc6a",
            "2092579b7573498ea703e4bc0adb1278",
            "a31a097223124fd8ad94b39fc96912a7",
            "500b46e40cd146ecbf27f034a6230b2a",
            "e63ed8ed4ba5404abe81e0fe18ed13a6",
            "1c754c018f944f438eaac02804fd4351",
            "c2fd513205e94e358b3ab5fa0c150d77",
            "20c1a81bdc2d4477a410ed78d0bc8b79",
            "75f2d6f18dc646919d1fc1f255ee84f0",
            "5df273eb96ea40a5a557f850ec1ef375",
            "2f2586e0db484e5591a7a7ba59f48ef8",
            "b18f5e9de74840a6961d4819317df30c",
            "39a591c79dd84fb4a3c6b4bc87d059c3",
            "b16f9be8f6084088bb43e138bae6d386",
            "b6f8e5d17e874b41b06001fcab309771",
            "5d19e6eec8bf459ca25badb2ad926ce8",
            "37af812f13ee43b1a29681a1fdfe582b",
            "3d31f6c435dd4280b1021293226886fa",
            "c29573f098384fb8b07a4b65544ca58d",
            "95a5770e33d84ecca1901c730e0367bf",
            "1e4f74fc3dae46e7ba55394ffdea1d83",
            "bfa52ca902a84ad3ba37096b22ca8232",
            "6c265221a6e444e0b7ee65fa60748fd5",
            "c248aa5c8ac24262b765ae32830d3ce2",
            "f3a438bb0df443128328dac62df87682",
            "be4db539f3574412894a67afaa0ae927",
            "f243e37afa9a4a86a678eef2c701f64b",
            "55d3630d60af4e6681748eb032cf80e7",
            "4247062d892f4ce794587733dc90ebbc",
            "58b40decfffd409e85f04ff61c5aead7",
            "46f2514071944733ab17857f7361c689",
            "0661ca16472240a0918e674ad5709b5c",
            "7335c7bdb1184bdea0282de7f31c95b7",
            "57c18dcff9cf42e88a5055404533b756",
            "5b13e27de48e45ab83e042c074dcd4bf",
            "e9996c3f354a4f05aaf71a4668a729c3",
            "8ca964370cba4f729689b48326e93d33",
            "3a3d9edcc5c7406eb504c1911e9ac84e",
            "fa65437f91754097932a3841ce7a4dba",
            "4592c6a214b848e1963b0dde93596b9b",
            "bcb61399d8ae41c4a9fb71f88fe6378f",
            "2c25392bc30c4aee9ebb054c2b72983f",
            "f5e8063773364660996f31df23bbcb65",
            "61efa714a2ce4d519d57d5f83cbf7615",
            "6980321de2de43da9fd2d298ca8b8bc1",
            "27de7207076c4b8d81483cba9f9a64c1",
            "3715a58c9b874bcaa199d5f03e8910ef",
            "9ac659584d82498386408ee19fa8650a",
            "d3e558c1a3e84e57a00ca2dbd6588309",
            "aa530a8bd2204654ad0cc8fa6aff815c",
            "27da672a2b494706ac134ef231a709aa",
            "91760e6f71d24fe38b2c39aeb8e8e115",
            "d1a930c4828f41fa865c8e1417f64459",
            "15d1d3c0bf2d43cabe2ef43324d23f63",
            "75afe878a9b141b3b3962e8f5a893b68",
            "6f67719bf8db479fa7aeec2ec7720c58",
            "69c5adbc17844cddb3187cd5829618c4",
            "2acd068bcdda41a5aab8b03772d7e5ee",
            "f94730e4e7c9436da167b9e81739dc9b",
            "143a8acb7a254ab3be1b8f6afc6414fc",
            "6cc1bc6e17f14a4b82379bc530a1732d",
            "7bb869d061de40f8a3638dbda30dfc5a",
            "246c638a983d44998a0edfc0ec8ed877",
            "972c431eb0924c6781a3bc9a6057746e",
            "df30be6febda4d26a204e671defe0765",
            "8c2bf73a2ecf46aebdad17f6340f5ef9",
            "539d2dd0057743d19a4992ee4860d769",
            "6c59608c0a944e2bb8ac3da3ef89aa29",
            "afa8e52ba1d94206a2b495ee54f44f6b",
            "8f48460b9a304bb3851744cb134ee852",
            "7ba041c294b3405481d822048e1fb6da",
            "aa291d29e9054bc9932c3cbc88da1c8b",
            "d7da2469253647a894b1437a87ebc048",
            "a05a0d24e23247a9822fa544786651bc",
            "bd4f88bd660f44a884dac2fecdc90eec",
            "47015206c9924c5bb6b01bb024302ecf",
            "97ffc4f82eb044ea99323150ce318457"
          ]
        },
        "id": "4NfAO8PuuZIB",
        "outputId": "f1736c6b-64b1-46da-8be8-7cac73a51322"
      },
      "execution_count": 5,
      "outputs": [
        {
          "output_type": "stream",
          "name": "stderr",
          "text": [
            "/usr/local/lib/python3.11/dist-packages/huggingface_hub/utils/_auth.py:94: UserWarning: \n",
            "The secret `HF_TOKEN` does not exist in your Colab secrets.\n",
            "To authenticate with the Hugging Face Hub, create a token in your settings tab (https://huggingface.co/settings/tokens), set it as secret in your Google Colab and restart your session.\n",
            "You will be able to reuse this secret in all of your notebooks.\n",
            "Please note that authentication is recommended but still optional to access public models or datasets.\n",
            "  warnings.warn(\n"
          ]
        },
        {
          "output_type": "display_data",
          "data": {
            "text/plain": [
              "modules.json:   0%|          | 0.00/229 [00:00<?, ?B/s]"
            ],
            "application/vnd.jupyter.widget-view+json": {
              "version_major": 2,
              "version_minor": 0,
              "model_id": "6cd6f9203c4b4fefaabb00a95d62e9dd"
            }
          },
          "metadata": {}
        },
        {
          "output_type": "display_data",
          "data": {
            "text/plain": [
              "config_sentence_transformers.json:   0%|          | 0.00/124 [00:00<?, ?B/s]"
            ],
            "application/vnd.jupyter.widget-view+json": {
              "version_major": 2,
              "version_minor": 0,
              "model_id": "a399f6279ccb4a49b798a2c1704f59c7"
            }
          },
          "metadata": {}
        },
        {
          "output_type": "display_data",
          "data": {
            "text/plain": [
              "README.md: 0.00B [00:00, ?B/s]"
            ],
            "application/vnd.jupyter.widget-view+json": {
              "version_major": 2,
              "version_minor": 0,
              "model_id": "3d21a81c66ee43a8bb401fb6399e92f3"
            }
          },
          "metadata": {}
        },
        {
          "output_type": "display_data",
          "data": {
            "text/plain": [
              "sentence_bert_config.json:   0%|          | 0.00/53.0 [00:00<?, ?B/s]"
            ],
            "application/vnd.jupyter.widget-view+json": {
              "version_major": 2,
              "version_minor": 0,
              "model_id": "610d142554c84654b57b305854092912"
            }
          },
          "metadata": {}
        },
        {
          "output_type": "display_data",
          "data": {
            "text/plain": [
              "config.json:   0%|          | 0.00/707 [00:00<?, ?B/s]"
            ],
            "application/vnd.jupyter.widget-view+json": {
              "version_major": 2,
              "version_minor": 0,
              "model_id": "8bb940f9b10e4c459b057bc28e3e720d"
            }
          },
          "metadata": {}
        },
        {
          "output_type": "display_data",
          "data": {
            "text/plain": [
              "pytorch_model.bin:   0%|          | 0.00/467M [00:00<?, ?B/s]"
            ],
            "application/vnd.jupyter.widget-view+json": {
              "version_major": 2,
              "version_minor": 0,
              "model_id": "87889523478a464dbd99026b1c45ff06"
            }
          },
          "metadata": {}
        },
        {
          "output_type": "display_data",
          "data": {
            "text/plain": [
              "model.safetensors:   0%|          | 0.00/467M [00:00<?, ?B/s]"
            ],
            "application/vnd.jupyter.widget-view+json": {
              "version_major": 2,
              "version_minor": 0,
              "model_id": "cff085c6f14f4fdd82bac95289ab99d1"
            }
          },
          "metadata": {}
        },
        {
          "output_type": "display_data",
          "data": {
            "text/plain": [
              "tokenizer_config.json:   0%|          | 0.00/394 [00:00<?, ?B/s]"
            ],
            "application/vnd.jupyter.widget-view+json": {
              "version_major": 2,
              "version_minor": 0,
              "model_id": "f397f96ba34a48149abf5089c43e7ff0"
            }
          },
          "metadata": {}
        },
        {
          "output_type": "display_data",
          "data": {
            "text/plain": [
              "vocab.txt: 0.00B [00:00, ?B/s]"
            ],
            "application/vnd.jupyter.widget-view+json": {
              "version_major": 2,
              "version_minor": 0,
              "model_id": "dc007f9d638a4b80b09e5b819ddc875b"
            }
          },
          "metadata": {}
        },
        {
          "output_type": "display_data",
          "data": {
            "text/plain": [
              "tokenizer.json: 0.00B [00:00, ?B/s]"
            ],
            "application/vnd.jupyter.widget-view+json": {
              "version_major": 2,
              "version_minor": 0,
              "model_id": "ec66d9c0f8bd4603af7fe1d26d5b5a1c"
            }
          },
          "metadata": {}
        },
        {
          "output_type": "display_data",
          "data": {
            "text/plain": [
              "special_tokens_map.json:   0%|          | 0.00/112 [00:00<?, ?B/s]"
            ],
            "application/vnd.jupyter.widget-view+json": {
              "version_major": 2,
              "version_minor": 0,
              "model_id": "8824c0e93aed4f6b92911b34f2185f5f"
            }
          },
          "metadata": {}
        },
        {
          "output_type": "display_data",
          "data": {
            "text/plain": [
              "config.json:   0%|          | 0.00/190 [00:00<?, ?B/s]"
            ],
            "application/vnd.jupyter.widget-view+json": {
              "version_major": 2,
              "version_minor": 0,
              "model_id": "f83c2422cc7d4033b0930180243d92b3"
            }
          },
          "metadata": {}
        },
        {
          "output_type": "display_data",
          "data": {
            "text/plain": [
              "config.json: 0.00B [00:00, ?B/s]"
            ],
            "application/vnd.jupyter.widget-view+json": {
              "version_major": 2,
              "version_minor": 0,
              "model_id": "4d6207f3d88e4f13879424d80f94d7fe"
            }
          },
          "metadata": {}
        },
        {
          "output_type": "display_data",
          "data": {
            "text/plain": [
              "pytorch_model.bin:   0%|          | 0.00/605M [00:00<?, ?B/s]"
            ],
            "application/vnd.jupyter.widget-view+json": {
              "version_major": 2,
              "version_minor": 0,
              "model_id": "c068af06b5224f538730b267cddb058d"
            }
          },
          "metadata": {}
        },
        {
          "output_type": "stream",
          "name": "stderr",
          "text": [
            "Using a slow image processor as `use_fast` is unset and a slow processor was saved with this model. `use_fast=True` will be the default behavior in v4.52, even if the model was saved with a slow processor. This will result in minor differences in outputs. You'll still be able to use a slow processor with `use_fast=False`.\n"
          ]
        },
        {
          "output_type": "display_data",
          "data": {
            "text/plain": [
              "model.safetensors:   0%|          | 0.00/605M [00:00<?, ?B/s]"
            ],
            "application/vnd.jupyter.widget-view+json": {
              "version_major": 2,
              "version_minor": 0,
              "model_id": "92fc197f6864457d8f6e4a7f8f21bc6a"
            }
          },
          "metadata": {}
        },
        {
          "output_type": "display_data",
          "data": {
            "text/plain": [
              "preprocessor_config.json:   0%|          | 0.00/316 [00:00<?, ?B/s]"
            ],
            "application/vnd.jupyter.widget-view+json": {
              "version_major": 2,
              "version_minor": 0,
              "model_id": "b18f5e9de74840a6961d4819317df30c"
            }
          },
          "metadata": {}
        },
        {
          "output_type": "display_data",
          "data": {
            "text/plain": [
              "tokenizer_config.json:   0%|          | 0.00/592 [00:00<?, ?B/s]"
            ],
            "application/vnd.jupyter.widget-view+json": {
              "version_major": 2,
              "version_minor": 0,
              "model_id": "6c265221a6e444e0b7ee65fa60748fd5"
            }
          },
          "metadata": {}
        },
        {
          "output_type": "display_data",
          "data": {
            "text/plain": [
              "vocab.json: 0.00B [00:00, ?B/s]"
            ],
            "application/vnd.jupyter.widget-view+json": {
              "version_major": 2,
              "version_minor": 0,
              "model_id": "57c18dcff9cf42e88a5055404533b756"
            }
          },
          "metadata": {}
        },
        {
          "output_type": "display_data",
          "data": {
            "text/plain": [
              "merges.txt: 0.00B [00:00, ?B/s]"
            ],
            "application/vnd.jupyter.widget-view+json": {
              "version_major": 2,
              "version_minor": 0,
              "model_id": "6980321de2de43da9fd2d298ca8b8bc1"
            }
          },
          "metadata": {}
        },
        {
          "output_type": "display_data",
          "data": {
            "text/plain": [
              "tokenizer.json: 0.00B [00:00, ?B/s]"
            ],
            "application/vnd.jupyter.widget-view+json": {
              "version_major": 2,
              "version_minor": 0,
              "model_id": "6f67719bf8db479fa7aeec2ec7720c58"
            }
          },
          "metadata": {}
        },
        {
          "output_type": "display_data",
          "data": {
            "text/plain": [
              "special_tokens_map.json:   0%|          | 0.00/389 [00:00<?, ?B/s]"
            ],
            "application/vnd.jupyter.widget-view+json": {
              "version_major": 2,
              "version_minor": 0,
              "model_id": "539d2dd0057743d19a4992ee4860d769"
            }
          },
          "metadata": {}
        }
      ]
    },
    {
      "cell_type": "markdown",
      "source": [
        "# Step 5: 임베딩 생성 함수"
      ],
      "metadata": {
        "id": "i1ipks-IucLt"
      }
    },
    {
      "cell_type": "code",
      "source": [
        "SEASONS = [\"봄\", \"여름\", \"가을\", \"겨울\"]\n",
        "\n",
        "# 브랜드 목록을 one-hot으로 변환\n",
        "brands = df[\"BRAND_NAME\"].unique()\n",
        "brand_to_index = {brand: idx for idx, brand in enumerate(brands)}\n",
        "brand_embedding_matrix = np.eye(len(brands), dtype=np.float32)\n",
        "\n",
        "# 개별 속성 임베딩 함수들\n",
        "def encode_text(text):\n",
        "    return kobert.encode([text], normalize_embeddings=True)[0]\n",
        "\n",
        "def encode_image(image_url):\n",
        "    try:\n",
        "        response = requests.get(image_url, timeout=5)\n",
        "        image = Image.open(BytesIO(response.content)).convert(\"RGB\")\n",
        "        inputs = clip_processor(images=image, return_tensors=\"pt\")\n",
        "        with torch.no_grad():\n",
        "            img_vec = clip_model.get_image_features(**inputs)\n",
        "            img_vec = img_vec / img_vec.norm(dim=-1, keepdim=True)\n",
        "        return img_vec.squeeze().cpu().numpy()\n",
        "    except:\n",
        "        return np.zeros(512)\n",
        "\n",
        "def encode_season(season_str):\n",
        "    return np.array([1 if s in season_str else 0 for s in SEASONS], dtype=np.float32)\n",
        "\n",
        "def encode_price(price_scaled):\n",
        "    return np.array([price_scaled], dtype=np.float32)\n",
        "\n",
        "def encode_brand(brand_name):\n",
        "    return brand_embedding_matrix[brand_to_index[brand_name]]\n",
        "\n",
        "# 벡터 생성\n",
        "def build_embedding(row):\n",
        "    brand_vec = encode_brand(row[\"BRAND_NAME\"])\n",
        "    name_vec = encode_text(row[\"NAME\"])\n",
        "    desc_vec = encode_text(row[\"DESCRIPTION\"])\n",
        "    style_vec = encode_text(row[\"STYLE\"])\n",
        "    fit_vec = encode_text(row[\"FIT\"])\n",
        "    color_vec = encode_text(row[\"COLOR\"])\n",
        "    category_vec = encode_text(row[\"CATEGORY\"])\n",
        "    season_vec = encode_season(row[\"SEASON\"])\n",
        "    price_vec = encode_price(row[\"PRICE_SCALED\"])\n",
        "    image_vec = encode_image(row[\"IMAGE_URL\"])\n",
        "\n",
        "    combined = np.concatenate([\n",
        "        brand_vec, name_vec, desc_vec, style_vec,\n",
        "        fit_vec, color_vec, category_vec,\n",
        "        season_vec, price_vec, image_vec\n",
        "    ])\n",
        "    norm = np.linalg.norm(combined)\n",
        "    return combined / norm if norm != 0 else combined\n"
      ],
      "metadata": {
        "id": "urMO6z1Ludu5"
      },
      "execution_count": 6,
      "outputs": []
    },
    {
      "cell_type": "markdown",
      "source": [
        "# Step 6: 유사도 계산"
      ],
      "metadata": {
        "id": "CyiPh2wCufjb"
      }
    },
    {
      "cell_type": "code",
      "source": [
        "embeddings = []\n",
        "for _, row in tqdm(df.iterrows(), total=len(df)):\n",
        "    vec = build_embedding(row)\n",
        "    embeddings.append((row[\"ID\"], vec))\n",
        "\n",
        "similarities = []\n",
        "for i, (id1, vec1) in enumerate(embeddings):\n",
        "    scores = []\n",
        "    for j, (id2, vec2) in enumerate(embeddings):\n",
        "        if id1 == id2:\n",
        "            continue\n",
        "        score = np.dot(vec1, vec2)\n",
        "        scores.append((id2, score))\n",
        "    scores.sort(key=lambda x: x[1], reverse=True)\n",
        "    top10 = scores[:10]\n",
        "    for target_id, score in top10:\n",
        "        similarities.append({\n",
        "            \"SOURCE_ID\": id1,\n",
        "            \"TARGET_ID\": target_id,\n",
        "            \"SCORE\": round(score, 4)\n",
        "        })\n"
      ],
      "metadata": {
        "colab": {
          "base_uri": "https://localhost:8080/",
          "height": 694
        },
        "id": "9y6PPAuFujct",
        "outputId": "33a65d9d-4939-4395-b427-01b5d739a9d8"
      },
      "execution_count": 7,
      "outputs": [
        {
          "output_type": "stream",
          "name": "stderr",
          "text": [
            "\n",
            "  0%|          | 0/32 [00:00<?, ?it/s]\u001b[A/usr/local/lib/python3.11/dist-packages/torch/nn/modules/module.py:1750: FutureWarning: `encoder_attention_mask` is deprecated and will be removed in version 4.55.0 for `BertSdpaSelfAttention.forward`.\n",
            "  return forward_call(*args, **kwargs)\n",
            "\n",
            "  3%|▎         | 1/32 [00:04<02:07,  4.12s/it]\u001b[A\n",
            "  6%|▋         | 2/32 [00:05<01:09,  2.30s/it]\u001b[A\n",
            "  9%|▉         | 3/32 [00:06<00:55,  1.92s/it]\u001b[A\n",
            " 12%|█▎        | 4/32 [00:09<01:08,  2.46s/it]\u001b[A\n",
            " 16%|█▌        | 5/32 [00:11<00:55,  2.05s/it]\u001b[A\n",
            " 19%|█▉        | 6/32 [00:12<00:45,  1.75s/it]\u001b[A\n",
            " 22%|██▏       | 7/32 [00:13<00:37,  1.49s/it]\u001b[A\n",
            " 25%|██▌       | 8/32 [00:14<00:31,  1.32s/it]\u001b[A\n",
            " 28%|██▊       | 9/32 [00:15<00:26,  1.17s/it]\u001b[A\n",
            " 31%|███▏      | 10/32 [00:15<00:22,  1.03s/it]\u001b[A\n",
            " 34%|███▍      | 11/32 [00:17<00:22,  1.08s/it]\u001b[A\n",
            " 38%|███▊      | 12/32 [00:18<00:22,  1.11s/it]\u001b[A\n",
            " 41%|████      | 13/32 [00:19<00:20,  1.06s/it]\u001b[A\n",
            " 44%|████▍     | 14/32 [00:19<00:17,  1.03it/s]\u001b[A\n",
            " 47%|████▋     | 15/32 [00:20<00:16,  1.02it/s]\u001b[A\n",
            " 50%|█████     | 16/32 [00:22<00:17,  1.07s/it]\u001b[A\n",
            " 53%|█████▎    | 17/32 [00:23<00:17,  1.16s/it]\u001b[A\n",
            " 56%|█████▋    | 18/32 [00:24<00:16,  1.19s/it]\u001b[A\n",
            " 59%|█████▉    | 19/32 [00:26<00:15,  1.20s/it]\u001b[A\n",
            " 62%|██████▎   | 20/32 [00:26<00:13,  1.11s/it]\u001b[A\n",
            " 66%|██████▌   | 21/32 [00:27<00:11,  1.02s/it]\u001b[A\n",
            " 69%|██████▉   | 22/32 [00:28<00:09,  1.03it/s]\u001b[A\n",
            " 72%|███████▏  | 23/32 [00:29<00:08,  1.08it/s]\u001b[A\n",
            " 75%|███████▌  | 24/32 [00:30<00:07,  1.08it/s]\u001b[A\n",
            " 78%|███████▊  | 25/32 [00:31<00:06,  1.13it/s]\u001b[A\n",
            " 81%|████████▏ | 26/32 [00:32<00:05,  1.12it/s]\u001b[A\n",
            " 84%|████████▍ | 27/32 [00:33<00:04,  1.09it/s]\u001b[A\n",
            " 88%|████████▊ | 28/32 [00:34<00:03,  1.08it/s]\u001b[A\n",
            " 91%|█████████ | 29/32 [00:34<00:02,  1.11it/s]\u001b[A\n",
            " 94%|█████████▍| 30/32 [00:36<00:02,  1.09s/it]\u001b[A\n",
            " 97%|█████████▋| 31/32 [00:37<00:01,  1.04s/it]\u001b[A\n",
            "100%|██████████| 32/32 [00:38<00:00,  1.20s/it]\n"
          ]
        }
      ]
    },
    {
      "cell_type": "markdown",
      "source": [
        "# Step 7: DB 입력용 SQL 출력"
      ],
      "metadata": {
        "id": "0j-QRrLIuvht"
      }
    },
    {
      "cell_type": "code",
      "source": [
        "from datetime import datetime\n",
        "\n",
        "now = datetime.now().strftime(\"%Y-%m-%d %H:%M:%S\")\n",
        "\n",
        "sqls = []\n",
        "\n",
        "# for i, rec in enumerate(similarities):\n",
        "#     sqls.append(\n",
        "#         f\"UPDATE RECOMMEND_RESULT \"\n",
        "#         f\"SET SCORE = {rec['SCORE']}, \"\n",
        "#         f\"UPDATED_AT = TO_TIMESTAMP('{now}', 'YYYY-MM-DD HH24:MI:SS'), \"\n",
        "#         f\"UPDATED_BY = 0 \"\n",
        "#         f\"WHERE SOURCE_ID = {rec['SOURCE_ID']} AND TARGET_ID = {rec['TARGET_ID']};\"\n",
        "#     )\n",
        "\n",
        "\n",
        "\n",
        "for i, rec in enumerate(similarities):\n",
        "    sqls.append(f\"INSERT INTO RECOMMEND_RESULT (ID, SOURCE_ID, TARGET_ID, SCORE, CREATED_AT, CREATED_BY) \"\n",
        "                       f\"VALUES (RECOMMEND_RESULT_SEQ.NEXTVAL, {rec['SOURCE_ID']}, {rec['TARGET_ID']}, \"\n",
        "                       f\"{rec['SCORE']}, TO_TIMESTAMP('{now}', 'YYYY-MM-DD HH24:MI:SS'), 0);\")\n",
        "\n",
        "# 저장\n",
        "with open(\"recommend_results.sql\", \"w\", encoding=\"utf-8\") as f:\n",
        "    f.write(\"\\n\".join(sqls))\n",
        "\n",
        "    from datetime import datetime\n",
        "\n"
      ],
      "metadata": {
        "id": "aM4IbMR3uvqx"
      },
      "execution_count": 9,
      "outputs": []
    },
    {
      "cell_type": "markdown",
      "source": [
        "# Step 8: SQL 다운로드"
      ],
      "metadata": {
        "id": "qb7Wj_4BuzjT"
      }
    },
    {
      "cell_type": "code",
      "source": [
        "from google.colab import files\n",
        "files.download(\"recommend_results.sql\")\n"
      ],
      "metadata": {
        "colab": {
          "base_uri": "https://localhost:8080/",
          "height": 17
        },
        "id": "r017OqKtu2bw",
        "outputId": "11ca88b5-dc9c-47cf-cfd5-7fe7e6564678"
      },
      "execution_count": 10,
      "outputs": [
        {
          "output_type": "display_data",
          "data": {
            "text/plain": [
              "<IPython.core.display.Javascript object>"
            ],
            "application/javascript": [
              "\n",
              "    async function download(id, filename, size) {\n",
              "      if (!google.colab.kernel.accessAllowed) {\n",
              "        return;\n",
              "      }\n",
              "      const div = document.createElement('div');\n",
              "      const label = document.createElement('label');\n",
              "      label.textContent = `Downloading \"${filename}\": `;\n",
              "      div.appendChild(label);\n",
              "      const progress = document.createElement('progress');\n",
              "      progress.max = size;\n",
              "      div.appendChild(progress);\n",
              "      document.body.appendChild(div);\n",
              "\n",
              "      const buffers = [];\n",
              "      let downloaded = 0;\n",
              "\n",
              "      const channel = await google.colab.kernel.comms.open(id);\n",
              "      // Send a message to notify the kernel that we're ready.\n",
              "      channel.send({})\n",
              "\n",
              "      for await (const message of channel.messages) {\n",
              "        // Send a message to notify the kernel that we're ready.\n",
              "        channel.send({})\n",
              "        if (message.buffers) {\n",
              "          for (const buffer of message.buffers) {\n",
              "            buffers.push(buffer);\n",
              "            downloaded += buffer.byteLength;\n",
              "            progress.value = downloaded;\n",
              "          }\n",
              "        }\n",
              "      }\n",
              "      const blob = new Blob(buffers, {type: 'application/binary'});\n",
              "      const a = document.createElement('a');\n",
              "      a.href = window.URL.createObjectURL(blob);\n",
              "      a.download = filename;\n",
              "      div.appendChild(a);\n",
              "      a.click();\n",
              "      div.remove();\n",
              "    }\n",
              "  "
            ]
          },
          "metadata": {}
        },
        {
          "output_type": "display_data",
          "data": {
            "text/plain": [
              "<IPython.core.display.Javascript object>"
            ],
            "application/javascript": [
              "download(\"download_9d1994e7-164e-42c9-b716-63e3cff7b889\", \"recommend_results.sql\", 69895)"
            ]
          },
          "metadata": {}
        }
      ]
    },
    {
      "cell_type": "markdown",
      "source": [
        "# ✅ PCA 시각화"
      ],
      "metadata": {
        "id": "q-t6gGLLOptn"
      }
    },
    {
      "cell_type": "code",
      "source": [
        "from sklearn.decomposition import PCA\n",
        "import matplotlib.pyplot as plt\n",
        "\n",
        "# 1. 임베딩 벡터만 추출\n",
        "embedding_vectors = [vec for _, vec in embeddings]\n",
        "product_ids = [pid for pid, _ in embeddings]\n",
        "\n",
        "# 2. PCA로 2차원 축소\n",
        "pca = PCA(n_components=2)\n",
        "pca_result = pca.fit_transform(embedding_vectors)\n",
        "\n",
        "# 3. 시각화\n",
        "plt.figure(figsize=(10, 7))\n",
        "plt.scatter(pca_result[:, 0], pca_result[:, 1], alpha=0.6)\n",
        "plt.title(\"PCA embedding (2D)\")\n",
        "plt.xlabel(\"PCA 1\")\n",
        "plt.ylabel(\"PCA 2\")\n",
        "plt.grid(True)\n",
        "plt.show()\n"
      ],
      "metadata": {
        "colab": {
          "base_uri": "https://localhost:8080/",
          "height": 638
        },
        "id": "uyeXV-ikOwlE",
        "outputId": "47f79acb-6c58-44dc-ffe4-c2be764ce537"
      },
      "execution_count": 11,
      "outputs": [
        {
          "output_type": "display_data",
          "data": {
            "text/plain": [
              "<Figure size 1000x700 with 1 Axes>"
            ],
            "image/png": "[encoded data removed]"
          },
          "metadata": {}
        }
      ]
    },
    {
      "cell_type": "markdown",
      "source": [
        "# ✅ 2. 선택적으로 색깔로 그룹 나누기 (예: CATEGORY 기준)"
      ],
      "metadata": {
        "id": "TP0NWKEMO8Pr"
      }
    },
    {
      "cell_type": "code",
      "source": [
        "import seaborn as sns\n",
        "\n",
        "categories = df[\"CATEGORY\"].tolist()\n",
        "\n",
        "plt.figure(figsize=(10, 7))\n",
        "sns.scatterplot(\n",
        "    x=pca_result[:, 0], y=pca_result[:, 1],\n",
        "    hue=categories,\n",
        "    palette=\"tab10\",\n",
        "    legend=False,  # 범례 숨기기 원하면 True로\n",
        "    alpha=0.7\n",
        ")\n",
        "plt.title(\"PCA  (By CATEGORY)\")\n",
        "plt.xlabel(\"PCA 1\")\n",
        "plt.ylabel(\"PCA 2\")\n",
        "plt.grid(True)\n",
        "plt.show()\n"
      ],
      "metadata": {
        "colab": {
          "base_uri": "https://localhost:8080/",
          "height": 638
        },
        "id": "WdHKZ67oO8jQ",
        "outputId": "1ae50221-e882-4369-b58c-8288d6ac7ec6"
      },
      "execution_count": 12,
      "outputs": [
        {
          "output_type": "display_data",
          "data": {
            "text/plain": [
              "<Figure size 1000x700 with 1 Axes>"
            ],
            "image/png": "[encoded data removed]"
          },
          "metadata": {}
        }
      ]
    },
    {
      "cell_type": "markdown",
      "source": [
        "# ✅ 3. 주성분 중요도(설명력) 확인"
      ],
      "metadata": {
        "id": "odTWSpM-O87f"
      }
    },
    {
      "cell_type": "code",
      "source": [
        "explained = pca.explained_variance_ratio_\n",
        "print(f\"PC1 설명력: {explained[0]:.2%}\")\n",
        "print(f\"PC2 설명력: {explained[1]:.2%}\")\n",
        "print(f\"누적 설명력 (2D): {explained[:2].sum():.2%}\")\n"
      ],
      "metadata": {
        "colab": {
          "base_uri": "https://localhost:8080/"
        },
        "id": "rij5w_PkO9GH",
        "outputId": "4781d1ea-0753-4e9b-d486-3d071fe72d13"
      },
      "execution_count": 13,
      "outputs": [
        {
          "output_type": "stream",
          "name": "stdout",
          "text": [
            "PC1 설명력: 15.62%\n",
            "PC2 설명력: 10.53%\n",
            "누적 설명력 (2D): 26.16%\n"
          ]
        }
      ]
    },
    {
      "cell_type": "markdown",
      "source": [
        "# 1. 설치 (UMAP"
      ],
      "metadata": {
        "id": "99vz5pxDTRoL"
      }
    },
    {
      "cell_type": "code",
      "source": [
        "!pip install umap-learn"
      ],
      "metadata": {
        "colab": {
          "base_uri": "https://localhost:8080/"
        },
        "id": "ii7ou7HgTRy_",
        "outputId": "93ab8f25-1115-4265-9307-33fb09df5b55"
      },
      "execution_count": 14,
      "outputs": [
        {
          "output_type": "stream",
          "name": "stdout",
          "text": [
            "Requirement already satisfied: umap-learn in /usr/local/lib/python3.11/dist-packages (0.5.9.post2)\n",
            "Requirement already satisfied: numpy>=1.23 in /usr/local/lib/python3.11/dist-packages (from umap-learn) (2.0.2)\n",
            "Requirement already satisfied: scipy>=1.3.1 in /usr/local/lib/python3.11/dist-packages (from umap-learn) (1.16.1)\n",
            "Requirement already satisfied: scikit-learn>=1.6 in /usr/local/lib/python3.11/dist-packages (from umap-learn) (1.6.1)\n",
            "Requirement already satisfied: numba>=0.51.2 in /usr/local/lib/python3.11/dist-packages (from umap-learn) (0.60.0)\n",
            "Requirement already satisfied: pynndescent>=0.5 in /usr/local/lib/python3.11/dist-packages (from umap-learn) (0.5.13)\n",
            "Requirement already satisfied: tqdm in /usr/local/lib/python3.11/dist-packages (from umap-learn) (4.67.1)\n",
            "Requirement already satisfied: llvmlite<0.44,>=0.43.0dev0 in /usr/local/lib/python3.11/dist-packages (from numba>=0.51.2->umap-learn) (0.43.0)\n",
            "Requirement already satisfied: joblib>=0.11 in /usr/local/lib/python3.11/dist-packages (from pynndescent>=0.5->umap-learn) (1.5.1)\n",
            "Requirement already satisfied: threadpoolctl>=3.1.0 in /usr/local/lib/python3.11/dist-packages (from scikit-learn>=1.6->umap-learn) (3.6.0)\n"
          ]
        }
      ]
    },
    {
      "cell_type": "markdown",
      "source": [
        "# ✅ 2. 임베딩 벡터 준비"
      ],
      "metadata": {
        "id": "EzSIxJRKWGC9"
      }
    },
    {
      "cell_type": "code",
      "source": [
        "embedding_vectors = [vec for _, vec in embeddings]\n",
        "product_ids = [pid for pid, _ in embeddings]\n"
      ],
      "metadata": {
        "id": "wVQLWiqGWGLv"
      },
      "execution_count": 15,
      "outputs": []
    },
    {
      "cell_type": "markdown",
      "source": [
        "# ✅ 3. t-SNE 시각화"
      ],
      "metadata": {
        "id": "vwKQmf-0WGdP"
      }
    },
    {
      "cell_type": "code",
      "source": [
        "import numpy as np\n",
        "from sklearn.manifold import TSNE\n",
        "import matplotlib.pyplot as plt\n",
        "\n",
        "# 리스트를 NumPy 배열로 변환\n",
        "embedding_array = np.array(embedding_vectors)\n",
        "\n",
        "# t-SNE 수행\n",
        "tsne = TSNE(n_components=2, perplexity=30, random_state=42, init='random')\n",
        "tsne_result = tsne.fit_transform(embedding_array)\n",
        "\n",
        "# 시각화\n",
        "plt.figure(figsize=(10, 7))\n",
        "plt.scatter(tsne_result[:, 0], tsne_result[:, 1], alpha=0.6)\n",
        "plt.title(\"t-SNE\")\n",
        "plt.xlabel(\"t-SNE 1\")\n",
        "plt.ylabel(\"t-SNE 2\")\n",
        "plt.grid(True)\n",
        "plt.show()\n"
      ],
      "metadata": {
        "colab": {
          "base_uri": "https://localhost:8080/",
          "height": 641
        },
        "id": "FufnR4tnWGoE",
        "outputId": "44755d28-30fc-4aef-b84d-de599f019360"
      },
      "execution_count": 16,
      "outputs": [
        {
          "output_type": "display_data",
          "data": {
            "text/plain": [
              "<Figure size 1000x700 with 1 Axes>"
            ],
            "image/png": "[encoded data removed]"
          },
          "metadata": {}
        }
      ]
    },
    {
      "cell_type": "markdown",
      "source": [
        "# ✅ 4. UMAP 시각화"
      ],
      "metadata": {
        "id": "UPD5sRL-WSYN"
      }
    },
    {
      "cell_type": "code",
      "source": [
        "import umap.umap_ as umap\n",
        "\n",
        "# UMAP 수행\n",
        "reducer = umap.UMAP(n_components=2, random_state=42)\n",
        "umap_result = reducer.fit_transform(embedding_vectors)\n",
        "\n",
        "# 시각화\n",
        "plt.figure(figsize=(10, 7))\n",
        "plt.scatter(umap_result[:, 0], umap_result[:, 1], alpha=0.6)\n",
        "plt.title(\"UMAP \")\n",
        "plt.xlabel(\"UMAP 1\")\n",
        "plt.ylabel(\"UMAP 2\")\n",
        "plt.grid(True)\n",
        "plt.show()\n"
      ],
      "metadata": {
        "colab": {
          "base_uri": "https://localhost:8080/",
          "height": 697
        },
        "id": "lnL-Ib8GWSgp",
        "outputId": "bb00b21e-3f30-406e-839f-e1336ccaad95"
      },
      "execution_count": 17,
      "outputs": [
        {
          "output_type": "stream",
          "name": "stderr",
          "text": [
            "/usr/local/lib/python3.11/dist-packages/umap/umap_.py:1952: UserWarning: n_jobs value 1 overridden to 1 by setting random_state. Use no seed for parallelism.\n",
            "  warn(\n"
          ]
        },
        {
          "output_type": "display_data",
          "data": {
            "text/plain": [
              "<Figure size 1000x700 with 1 Axes>"
            ],
            "image/png": "[encoded data removed]"
          },
          "metadata": {}
        }
      ]
    },
    {
      "cell_type": "markdown",
      "source": [
        "## ✅ 선택: 카테고리 기반 색상 그룹화 (예: CATEGORY 컬럼 사용)"
      ],
      "metadata": {
        "id": "KV3SLSHLWaiB"
      }
    },
    {
      "cell_type": "code",
      "source": [
        "import seaborn as sns\n",
        "\n",
        "categories = df[\"CATEGORY\"].tolist()\n",
        "\n",
        "plt.figure(figsize=(10, 7))\n",
        "sns.scatterplot(\n",
        "    x=umap_result[:, 0],\n",
        "    y=umap_result[:, 1],\n",
        "    hue=categories,\n",
        "    palette=\"tab10\",\n",
        "    alpha=0.7,\n",
        "    legend=False\n",
        ")\n",
        "plt.title(\"UMAP (CATEGORY)\")\n",
        "plt.xlabel(\"UMAP 1\")\n",
        "plt.ylabel(\"UMAP 2\")\n",
        "plt.grid(True)\n",
        "plt.show()\n"
      ],
      "metadata": {
        "colab": {
          "base_uri": "https://localhost:8080/",
          "height": 641
        },
        "id": "D_ZURvseWe3g",
        "outputId": "328f6c1f-0801-42c9-fd5d-365fe0b19275"
      },
      "execution_count": 18,
      "outputs": [
        {
          "output_type": "display_data",
          "data": {
            "text/plain": [
              "<Figure size 1000x700 with 1 Axes>"
            ],
            "image/png": "[encoded data removed]"
          },
          "metadata": {}
        }
      ]
    },
    {
      "cell_type": "markdown",
      "source": [
        "# 통계 도출"
      ],
      "metadata": {
        "id": "ao3pmUBjLnfG"
      }
    },
    {
      "cell_type": "code",
      "source": [
        "import re\n",
        "import pandas as pd\n",
        "\n",
        "# 1. SQL 파일 불러오기\n",
        "with open(\"recommend_results.sql\", \"r\", encoding=\"utf-8\") as f:\n",
        "    lines = f.readlines()\n",
        "\n",
        "# 2. 정규표현식으로 SCORE 값 추출\n",
        "scores = []\n",
        "for line in lines:\n",
        "    match = re.search(r\"VALUES\\s*\\(.*?,\\s*.*?,\\s*.*?,\\s*(\\d+\\.\\d+)\", line)\n",
        "    if match:\n",
        "        scores.append(float(match.group(1)))\n",
        "\n",
        "# 3. DataFrame으로 변환\n",
        "df_scores = pd.DataFrame(scores, columns=[\"SCORE\"])\n",
        "\n",
        "# 4. CSV로 저장\n",
        "df_scores.to_csv(\"recommend_results.csv\", index=False)\n",
        "\n",
        "# 5. Colab에서 다운로드\n",
        "from google.colab import files\n",
        "files.download(\"recommend_results.csv\")\n"
      ],
      "metadata": {
        "colab": {
          "base_uri": "https://localhost:8080/",
          "height": 17
        },
        "id": "HEGhtCf5Ag1q",
        "outputId": "3d7560e9-a762-45c3-b086-c3d9dad4b865"
      },
      "execution_count": 19,
      "outputs": [
        {
          "output_type": "display_data",
          "data": {
            "text/plain": [
              "<IPython.core.display.Javascript object>"
            ],
            "application/javascript": [
              "\n",
              "    async function download(id, filename, size) {\n",
              "      if (!google.colab.kernel.accessAllowed) {\n",
              "        return;\n",
              "      }\n",
              "      const div = document.createElement('div');\n",
              "      const label = document.createElement('label');\n",
              "      label.textContent = `Downloading \"${filename}\": `;\n",
              "      div.appendChild(label);\n",
              "      const progress = document.createElement('progress');\n",
              "      progress.max = size;\n",
              "      div.appendChild(progress);\n",
              "      document.body.appendChild(div);\n",
              "\n",
              "      const buffers = [];\n",
              "      let downloaded = 0;\n",
              "\n",
              "      const channel = await google.colab.kernel.comms.open(id);\n",
              "      // Send a message to notify the kernel that we're ready.\n",
              "      channel.send({})\n",
              "\n",
              "      for await (const message of channel.messages) {\n",
              "        // Send a message to notify the kernel that we're ready.\n",
              "        channel.send({})\n",
              "        if (message.buffers) {\n",
              "          for (const buffer of message.buffers) {\n",
              "            buffers.push(buffer);\n",
              "            downloaded += buffer.byteLength;\n",
              "            progress.value = downloaded;\n",
              "          }\n",
              "        }\n",
              "      }\n",
              "      const blob = new Blob(buffers, {type: 'application/binary'});\n",
              "      const a = document.createElement('a');\n",
              "      a.href = window.URL.createObjectURL(blob);\n",
              "      a.download = filename;\n",
              "      div.appendChild(a);\n",
              "      a.click();\n",
              "      div.remove();\n",
              "    }\n",
              "  "
            ]
          },
          "metadata": {}
        },
        {
          "output_type": "display_data",
          "data": {
            "text/plain": [
              "<IPython.core.display.Javascript object>"
            ],
            "application/javascript": [
              "download(\"download_0c2de922-929f-434f-b328-936b799c6490\", \"recommend_results.csv\", 6064)"
            ]
          },
          "metadata": {}
        }
      ]
    },
    {
      "cell_type": "code",
      "source": [
        "import pandas as pd\n",
        "import matplotlib.pyplot as plt\n",
        "import seaborn as sns\n",
        "\n",
        "# CSV 파일에서 데이터 불러오기 (또는 DB 연동 가능)\n",
        "df = pd.read_csv('recommend_results.csv')  # SCORE 컬럼만 있는 CSV\n",
        "\n",
        "# 스타일 설정\n",
        "sns.set(style=\"whitegrid\")\n",
        "\n",
        "# 그래프 그리기\n",
        "plt.figure(figsize=(12, 5))\n",
        "\n",
        "# 1. 히스토그램\n",
        "plt.subplot(1, 2, 1)\n",
        "sns.histplot(df['SCORE'], bins=20, kde=True, color='skyblue')\n",
        "plt.title('Similarity Histogram')\n",
        "plt.xlabel('Similarity Score')\n",
        "plt.ylabel('Frequency')\n",
        "\n",
        "## 2. 박스플롯\n",
        "# plt.subplot(1, 2, 2)\n",
        "# sns.boxplot(x=df['SCORE'], color='lightgreen')\n",
        "# plt.title('Similarity Boxplot')\n",
        "# plt.xlabel('Similarity Score')\n",
        "\n",
        "plt.tight_layout()\n",
        "plt.show()\n"
      ],
      "metadata": {
        "colab": {
          "base_uri": "https://localhost:8080/",
          "height": 501
        },
        "id": "4M8rc3rDLuCO",
        "outputId": "2c5f8f71-d752-4066-aa45-8d37e239e40a"
      },
      "execution_count": 20,
      "outputs": [
        {
          "output_type": "display_data",
          "data": {
            "text/plain": [
              "<Figure size 1200x500 with 1 Axes>"
            ],
            "image/png": "[encoded data removed]"
          },
          "metadata": {}
        }
      ]
    },
    {
      "cell_type": "code",
      "source": [
        "# 유사도 통계 계산\n",
        "mean_score = df_scores[\"SCORE\"].mean()\n",
        "max_score = df_scores[\"SCORE\"].max()\n",
        "min_score = df_scores[\"SCORE\"].min()\n",
        "\n",
        "print(f\"유사도 평균: {mean_score:.4f}\")\n",
        "print(f\"유사도 최고: {max_score:.4f}\")\n",
        "print(f\"유사도 최저: {min_score:.4f}\")\n"
      ],
      "metadata": {
        "colab": {
          "base_uri": "https://localhost:8080/"
        },
        "id": "IaHaL2oyAOMa",
        "outputId": "6f43c631-ba6d-46a5-ad75-79644a21034e"
      },
      "execution_count": 21,
      "outputs": [
        {
          "output_type": "stream",
          "name": "stdout",
          "text": [
            "유사도 평균: 0.6395\n",
            "유사도 최고: 0.8869\n",
            "유사도 최저: 0.4258\n"
          ]
        }
      ]
    }
  ]
}