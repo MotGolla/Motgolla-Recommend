{
  "nbformat": 4,
  "nbformat_minor": 0,
  "metadata": {
    "colab": {
      "provenance": [],
      "gpuType": "T4"
    },
    "kernelspec": {
      "name": "python3",
      "display_name": "Python 3"
    },
    "language_info": {
      "name": "python"
    },
    "accelerator": "GPU",
  }
  "cells": [
    {
      "cell_type": "markdown",
      "source": [
        "# 상품 추천 결과 생성 및 DB 입력용 데이터 추출"
      ],
      "metadata": {
        "id": "bzSdanjI7eTH"
      }
    },
    {
      "cell_type": "markdown",
      "source": [
        "# Step 1: 필요한 라이브러리 설치"
      ],
      "metadata": {
        "id": "cTSC5lds7VS3"
      }
    },
    {
      "cell_type": "code",
      "execution_count": 1,
      "metadata": {
        "colab": {
          "base_uri": "https://localhost:8080/"
        },
        "id": "Nn3UAnYstZT1",
        "outputId": "93cc6354-93c8-4411-abdc-a39d5c8ce309"
      },
      "outputs": [
        {
          "output_type": "stream",
          "name": "stdout",
          "text": [
            "Requirement already satisfied: transformers in /usr/local/lib/python3.11/dist-packages (4.53.3)\n",
            "Requirement already satisfied: filelock in /usr/local/lib/python3.11/dist-packages (from transformers) (3.18.0)\n",
            "Requirement already satisfied: huggingface-hub<1.0,>=0.30.0 in /usr/local/lib/python3.11/dist-packages (from transformers) (0.33.4)\n",
            "Requirement already satisfied: numpy>=1.17 in /usr/local/lib/python3.11/dist-packages (from transformers) (2.0.2)\n",
            "Requirement already satisfied: packaging>=20.0 in /usr/local/lib/python3.11/dist-packages (from transformers) (25.0)\n",
            "Requirement already satisfied: pyyaml>=5.1 in /usr/local/lib/python3.11/dist-packages (from transformers) (6.0.2)\n",
            "Requirement already satisfied: regex!=2019.12.17 in /usr/local/lib/python3.11/dist-packages (from transformers) (2024.11.6)\n",
            "Requirement already satisfied: requests in /usr/local/lib/python3.11/dist-packages (from transformers) (2.32.3)\n",
            "Requirement already satisfied: tokenizers<0.22,>=0.21 in /usr/local/lib/python3.11/dist-packages (from transformers) (0.21.2)\n",
            "Requirement already satisfied: safetensors>=0.4.3 in /usr/local/lib/python3.11/dist-packages (from transformers) (0.5.3)\n",
            "Requirement already satisfied: tqdm>=4.27 in /usr/local/lib/python3.11/dist-packages (from transformers) (4.67.1)\n",
            "Requirement already satisfied: fsspec>=2023.5.0 in /usr/local/lib/python3.11/dist-packages (from huggingface-hub<1.0,>=0.30.0->transformers) (2025.3.0)\n",
            "Requirement already satisfied: typing-extensions>=3.7.4.3 in /usr/local/lib/python3.11/dist-packages (from huggingface-hub<1.0,>=0.30.0->transformers) (4.14.1)\n",
            "Requirement already satisfied: hf-xet<2.0.0,>=1.1.2 in /usr/local/lib/python3.11/dist-packages (from huggingface-hub<1.0,>=0.30.0->transformers) (1.1.5)\n",
            "Requirement already satisfied: charset-normalizer<4,>=2 in /usr/local/lib/python3.11/dist-packages (from requests->transformers) (3.4.2)\n",
            "Requirement already satisfied: idna<4,>=2.5 in /usr/local/lib/python3.11/dist-packages (from requests->transformers) (3.10)\n",
            "Requirement already satisfied: urllib3<3,>=1.21.1 in /usr/local/lib/python3.11/dist-packages (from requests->transformers) (2.5.0)\n",
            "Requirement already satisfied: certifi>=2017.4.17 in /usr/local/lib/python3.11/dist-packages (from requests->transformers) (2025.7.14)\n",
            "Requirement already satisfied: sentence-transformers in /usr/local/lib/python3.11/dist-packages (4.1.0)\n",
            "Requirement already satisfied: transformers<5.0.0,>=4.41.0 in /usr/local/lib/python3.11/dist-packages (from sentence-transformers) (4.53.3)\n",
            "Requirement already satisfied: tqdm in /usr/local/lib/python3.11/dist-packages (from sentence-transformers) (4.67.1)\n",
            "Requirement already satisfied: torch>=1.11.0 in /usr/local/lib/python3.11/dist-packages (from sentence-transformers) (2.6.0+cu124)\n",
            "Requirement already satisfied: scikit-learn in /usr/local/lib/python3.11/dist-packages (from sentence-transformers) (1.6.1)\n",
            "Requirement already satisfied: scipy in /usr/local/lib/python3.11/dist-packages (from sentence-transformers) (1.16.0)\n",
            "Requirement already satisfied: huggingface-hub>=0.20.0 in /usr/local/lib/python3.11/dist-packages (from sentence-transformers) (0.33.4)\n",
            "Requirement already satisfied: Pillow in /usr/local/lib/python3.11/dist-packages (from sentence-transformers) (11.3.0)\n",
            "Requirement already satisfied: typing_extensions>=4.5.0 in /usr/local/lib/python3.11/dist-packages (from sentence-transformers) (4.14.1)\n",
            "Requirement already satisfied: filelock in /usr/local/lib/python3.11/dist-packages (from huggingface-hub>=0.20.0->sentence-transformers) (3.18.0)\n",
            "Requirement already satisfied: fsspec>=2023.5.0 in /usr/local/lib/python3.11/dist-packages (from huggingface-hub>=0.20.0->sentence-transformers) (2025.3.0)\n",
            "Requirement already satisfied: packaging>=20.9 in /usr/local/lib/python3.11/dist-packages (from huggingface-hub>=0.20.0->sentence-transformers) (25.0)\n",
            "Requirement already satisfied: pyyaml>=5.1 in /usr/local/lib/python3.11/dist-packages (from huggingface-hub>=0.20.0->sentence-transformers) (6.0.2)\n",
            "Requirement already satisfied: requests in /usr/local/lib/python3.11/dist-packages (from huggingface-hub>=0.20.0->sentence-transformers) (2.32.3)\n",
            "Requirement already satisfied: hf-xet<2.0.0,>=1.1.2 in /usr/local/lib/python3.11/dist-packages (from huggingface-hub>=0.20.0->sentence-transformers) (1.1.5)\n",
            "Requirement already satisfied: networkx in /usr/local/lib/python3.11/dist-packages (from torch>=1.11.0->sentence-transformers) (3.5)\n",
            "Requirement already satisfied: jinja2 in /usr/local/lib/python3.11/dist-packages (from torch>=1.11.0->sentence-transformers) (3.1.6)\n",
            "Collecting nvidia-cuda-nvrtc-cu12==12.4.127 (from torch>=1.11.0->sentence-transformers)\n",
            "  Downloading nvidia_cuda_nvrtc_cu12-12.4.127-py3-none-manylinux2014_x86_64.whl.metadata (1.5 kB)\n",
            "Collecting nvidia-cuda-runtime-cu12==12.4.127 (from torch>=1.11.0->sentence-transformers)\n",
            "  Downloading nvidia_cuda_runtime_cu12-12.4.127-py3-none-manylinux2014_x86_64.whl.metadata (1.5 kB)\n",
            "Collecting nvidia-cuda-cupti-cu12==12.4.127 (from torch>=1.11.0->sentence-transformers)\n",
            "  Downloading nvidia_cuda_cupti_cu12-12.4.127-py3-none-manylinux2014_x86_64.whl.metadata (1.6 kB)\n",
            "Collecting nvidia-cudnn-cu12==9.1.0.70 (from torch>=1.11.0->sentence-transformers)\n",
            "  Downloading nvidia_cudnn_cu12-9.1.0.70-py3-none-manylinux2014_x86_64.whl.metadata (1.6 kB)\n",
            "Collecting nvidia-cublas-cu12==12.4.5.8 (from torch>=1.11.0->sentence-transformers)\n",
            "  Downloading nvidia_cublas_cu12-12.4.5.8-py3-none-manylinux2014_x86_64.whl.metadata (1.5 kB)\n",
            "Collecting nvidia-cufft-cu12==11.2.1.3 (from torch>=1.11.0->sentence-transformers)\n",
            "  Downloading nvidia_cufft_cu12-11.2.1.3-py3-none-manylinux2014_x86_64.whl.metadata (1.5 kB)\n",
            "Collecting nvidia-curand-cu12==10.3.5.147 (from torch>=1.11.0->sentence-transformers)\n",
            "  Downloading nvidia_curand_cu12-10.3.5.147-py3-none-manylinux2014_x86_64.whl.metadata (1.5 kB)\n",
            "Collecting nvidia-cusolver-cu12==11.6.1.9 (from torch>=1.11.0->sentence-transformers)\n",
            "  Downloading nvidia_cusolver_cu12-11.6.1.9-py3-none-manylinux2014_x86_64.whl.metadata (1.6 kB)\n",
            "Collecting nvidia-cusparse-cu12==12.3.1.170 (from torch>=1.11.0->sentence-transformers)\n",
            "  Downloading nvidia_cusparse_cu12-12.3.1.170-py3-none-manylinux2014_x86_64.whl.metadata (1.6 kB)\n",
            "Requirement already satisfied: nvidia-cusparselt-cu12==0.6.2 in /usr/local/lib/python3.11/dist-packages (from torch>=1.11.0->sentence-transformers) (0.6.2)\n",
            "Requirement already satisfied: nvidia-nccl-cu12==2.21.5 in /usr/local/lib/python3.11/dist-packages (from torch>=1.11.0->sentence-transformers) (2.21.5)\n",
            "Requirement already satisfied: nvidia-nvtx-cu12==12.4.127 in /usr/local/lib/python3.11/dist-packages (from torch>=1.11.0->sentence-transformers) (12.4.127)\n",
            "Collecting nvidia-nvjitlink-cu12==12.4.127 (from torch>=1.11.0->sentence-transformers)\n",
            "  Downloading nvidia_nvjitlink_cu12-12.4.127-py3-none-manylinux2014_x86_64.whl.metadata (1.5 kB)\n",
            "Requirement already satisfied: triton==3.2.0 in /usr/local/lib/python3.11/dist-packages (from torch>=1.11.0->sentence-transformers) (3.2.0)\n",
            "Requirement already satisfied: sympy==1.13.1 in /usr/local/lib/python3.11/dist-packages (from torch>=1.11.0->sentence-transformers) (1.13.1)\n",
            "Requirement already satisfied: mpmath<1.4,>=1.1.0 in /usr/local/lib/python3.11/dist-packages (from sympy==1.13.1->torch>=1.11.0->sentence-transformers) (1.3.0)\n",
            "Requirement already satisfied: numpy>=1.17 in /usr/local/lib/python3.11/dist-packages (from transformers<5.0.0,>=4.41.0->sentence-transformers) (2.0.2)\n",
            "Requirement already satisfied: regex!=2019.12.17 in /usr/local/lib/python3.11/dist-packages (from transformers<5.0.0,>=4.41.0->sentence-transformers) (2024.11.6)\n",
            "Requirement already satisfied: tokenizers<0.22,>=0.21 in /usr/local/lib/python3.11/dist-packages (from transformers<5.0.0,>=4.41.0->sentence-transformers) (0.21.2)\n",
            "Requirement already satisfied: safetensors>=0.4.3 in /usr/local/lib/python3.11/dist-packages (from transformers<5.0.0,>=4.41.0->sentence-transformers) (0.5.3)\n",
            "Requirement already satisfied: joblib>=1.2.0 in /usr/local/lib/python3.11/dist-packages (from scikit-learn->sentence-transformers) (1.5.1)\n",
            "Requirement already satisfied: threadpoolctl>=3.1.0 in /usr/local/lib/python3.11/dist-packages (from scikit-learn->sentence-transformers) (3.6.0)\n",
            "Requirement already satisfied: MarkupSafe>=2.0 in /usr/local/lib/python3.11/dist-packages (from jinja2->torch>=1.11.0->sentence-transformers) (3.0.2)\n",
            "Requirement already satisfied: charset-normalizer<4,>=2 in /usr/local/lib/python3.11/dist-packages (from requests->huggingface-hub>=0.20.0->sentence-transformers) (3.4.2)\n",
            "Requirement already satisfied: idna<4,>=2.5 in /usr/local/lib/python3.11/dist-packages (from requests->huggingface-hub>=0.20.0->sentence-transformers) (3.10)\n",
            "Requirement already satisfied: urllib3<3,>=1.21.1 in /usr/local/lib/python3.11/dist-packages (from requests->huggingface-hub>=0.20.0->sentence-transformers) (2.5.0)\n",
            "Requirement already satisfied: certifi>=2017.4.17 in /usr/local/lib/python3.11/dist-packages (from requests->huggingface-hub>=0.20.0->sentence-transformers) (2025.7.14)\n",
            "Downloading nvidia_cublas_cu12-12.4.5.8-py3-none-manylinux2014_x86_64.whl (363.4 MB)\n",
            "\u001b[2K   \u001b[90m━━━━━━━━━━━━━━━━━━━━━━━━━━━━━━━━━━━━━━━━\u001b[0m \u001b[32m363.4/363.4 MB\u001b[0m \u001b[31m1.5 MB/s\u001b[0m eta \u001b[36m0:00:00\u001b[0m\n",
            "\u001b[?25hDownloading nvidia_cuda_cupti_cu12-12.4.127-py3-none-manylinux2014_x86_64.whl (13.8 MB)\n",
            "\u001b[2K   \u001b[90m━━━━━━━━━━━━━━━━━━━━━━━━━━━━━━━━━━━━━━━━\u001b[0m \u001b[32m13.8/13.8 MB\u001b[0m \u001b[31m89.5 MB/s\u001b[0m eta \u001b[36m0:00:00\u001b[0m\n",
            "\u001b[?25hDownloading nvidia_cuda_nvrtc_cu12-12.4.127-py3-none-manylinux2014_x86_64.whl (24.6 MB)\n",
            "\u001b[2K   \u001b[90m━━━━━━━━━━━━━━━━━━━━━━━━━━━━━━━━━━━━━━━━\u001b[0m \u001b[32m24.6/24.6 MB\u001b[0m \u001b[31m67.3 MB/s\u001b[0m eta \u001b[36m0:00:00\u001b[0m\n",
            "\u001b[?25hDownloading nvidia_cuda_runtime_cu12-12.4.127-py3-none-manylinux2014_x86_64.whl (883 kB)\n",
            "\u001b[2K   \u001b[90m━━━━━━━━━━━━━━━━━━━━━━━━━━━━━━━━━━━━━━━━\u001b[0m \u001b[32m883.7/883.7 kB\u001b[0m \u001b[31m44.7 MB/s\u001b[0m eta \u001b[36m0:00:00\u001b[0m\n",
            "\u001b[?25hDownloading nvidia_cudnn_cu12-9.1.0.70-py3-none-manylinux2014_x86_64.whl (664.8 MB)\n",
            "\u001b[2K   \u001b[90m━━━━━━━━━━━━━━━━━━━━━━━━━━━━━━━━━━━━━━━━\u001b[0m \u001b[32m664.8/664.8 MB\u001b[0m \u001b[31m2.9 MB/s\u001b[0m eta \u001b[36m0:00:00\u001b[0m\n",
            "\u001b[?25hDownloading nvidia_cufft_cu12-11.2.1.3-py3-none-manylinux2014_x86_64.whl (211.5 MB)\n",
            "\u001b[2K   \u001b[90m━━━━━━━━━━━━━━━━━━━━━━━━━━━━━━━━━━━━━━━━\u001b[0m \u001b[32m211.5/211.5 MB\u001b[0m \u001b[31m6.0 MB/s\u001b[0m eta \u001b[36m0:00:00\u001b[0m\n",
            "\u001b[?25hDownloading nvidia_curand_cu12-10.3.5.147-py3-none-manylinux2014_x86_64.whl (56.3 MB)\n",
            "\u001b[2K   \u001b[90m━━━━━━━━━━━━━━━━━━━━━━━━━━━━━━━━━━━━━━━━\u001b[0m \u001b[32m56.3/56.3 MB\u001b[0m \u001b[31m14.8 MB/s\u001b[0m eta \u001b[36m0:00:00\u001b[0m\n",
            "\u001b[?25hDownloading nvidia_cusolver_cu12-11.6.1.9-py3-none-manylinux2014_x86_64.whl (127.9 MB)\n",
            "\u001b[2K   \u001b[90m━━━━━━━━━━━━━━━━━━━━━━━━━━━━━━━━━━━━━━━━\u001b[0m \u001b[32m127.9/127.9 MB\u001b[0m \u001b[31m7.9 MB/s\u001b[0m eta \u001b[36m0:00:00\u001b[0m\n",
            "\u001b[?25hDownloading nvidia_cusparse_cu12-12.3.1.170-py3-none-manylinux2014_x86_64.whl (207.5 MB)\n",
            "\u001b[2K   \u001b[90m━━━━━━━━━━━━━━━━━━━━━━━━━━━━━━━━━━━━━━━━\u001b[0m \u001b[32m207.5/207.5 MB\u001b[0m \u001b[31m6.8 MB/s\u001b[0m eta \u001b[36m0:00:00\u001b[0m\n",
            "\u001b[?25hDownloading nvidia_nvjitlink_cu12-12.4.127-py3-none-manylinux2014_x86_64.whl (21.1 MB)\n",
            "\u001b[2K   \u001b[90m━━━━━━━━━━━━━━━━━━━━━━━━━━━━━━━━━━━━━━━━\u001b[0m \u001b[32m21.1/21.1 MB\u001b[0m \u001b[31m92.8 MB/s\u001b[0m eta \u001b[36m0:00:00\u001b[0m\n",
            "\u001b[?25hInstalling collected packages: nvidia-nvjitlink-cu12, nvidia-curand-cu12, nvidia-cufft-cu12, nvidia-cuda-runtime-cu12, nvidia-cuda-nvrtc-cu12, nvidia-cuda-cupti-cu12, nvidia-cublas-cu12, nvidia-cusparse-cu12, nvidia-cudnn-cu12, nvidia-cusolver-cu12\n",
            "  Attempting uninstall: nvidia-nvjitlink-cu12\n",
            "    Found existing installation: nvidia-nvjitlink-cu12 12.5.82\n",
            "    Uninstalling nvidia-nvjitlink-cu12-12.5.82:\n",
            "      Successfully uninstalled nvidia-nvjitlink-cu12-12.5.82\n",
            "  Attempting uninstall: nvidia-curand-cu12\n",
            "    Found existing installation: nvidia-curand-cu12 10.3.6.82\n",
            "    Uninstalling nvidia-curand-cu12-10.3.6.82:\n",
            "      Successfully uninstalled nvidia-curand-cu12-10.3.6.82\n",
            "  Attempting uninstall: nvidia-cufft-cu12\n",
            "    Found existing installation: nvidia-cufft-cu12 11.2.3.61\n",
            "    Uninstalling nvidia-cufft-cu12-11.2.3.61:\n",
            "      Successfully uninstalled nvidia-cufft-cu12-11.2.3.61\n",
            "  Attempting uninstall: nvidia-cuda-runtime-cu12\n",
            "    Found existing installation: nvidia-cuda-runtime-cu12 12.5.82\n",
            "    Uninstalling nvidia-cuda-runtime-cu12-12.5.82:\n",
            "      Successfully uninstalled nvidia-cuda-runtime-cu12-12.5.82\n",
            "  Attempting uninstall: nvidia-cuda-nvrtc-cu12\n",
            "    Found existing installation: nvidia-cuda-nvrtc-cu12 12.5.82\n",
            "    Uninstalling nvidia-cuda-nvrtc-cu12-12.5.82:\n",
            "      Successfully uninstalled nvidia-cuda-nvrtc-cu12-12.5.82\n",
            "  Attempting uninstall: nvidia-cuda-cupti-cu12\n",
            "    Found existing installation: nvidia-cuda-cupti-cu12 12.5.82\n",
            "    Uninstalling nvidia-cuda-cupti-cu12-12.5.82:\n",
            "      Successfully uninstalled nvidia-cuda-cupti-cu12-12.5.82\n",
            "  Attempting uninstall: nvidia-cublas-cu12\n",
            "    Found existing installation: nvidia-cublas-cu12 12.5.3.2\n",
            "    Uninstalling nvidia-cublas-cu12-12.5.3.2:\n",
            "      Successfully uninstalled nvidia-cublas-cu12-12.5.3.2\n",
            "  Attempting uninstall: nvidia-cusparse-cu12\n",
            "    Found existing installation: nvidia-cusparse-cu12 12.5.1.3\n",
            "    Uninstalling nvidia-cusparse-cu12-12.5.1.3:\n",
            "      Successfully uninstalled nvidia-cusparse-cu12-12.5.1.3\n",
            "  Attempting uninstall: nvidia-cudnn-cu12\n",
            "    Found existing installation: nvidia-cudnn-cu12 9.3.0.75\n",
            "    Uninstalling nvidia-cudnn-cu12-9.3.0.75:\n",
            "      Successfully uninstalled nvidia-cudnn-cu12-9.3.0.75\n",
            "  Attempting uninstall: nvidia-cusolver-cu12\n",
            "    Found existing installation: nvidia-cusolver-cu12 11.6.3.83\n",
            "    Uninstalling nvidia-cusolver-cu12-11.6.3.83:\n",
            "      Successfully uninstalled nvidia-cusolver-cu12-11.6.3.83\n",
            "Successfully installed nvidia-cublas-cu12-12.4.5.8 nvidia-cuda-cupti-cu12-12.4.127 nvidia-cuda-nvrtc-cu12-12.4.127 nvidia-cuda-runtime-cu12-12.4.127 nvidia-cudnn-cu12-9.1.0.70 nvidia-cufft-cu12-11.2.1.3 nvidia-curand-cu12-10.3.5.147 nvidia-cusolver-cu12-11.6.1.9 nvidia-cusparse-cu12-12.3.1.170 nvidia-nvjitlink-cu12-12.4.127\n",
            "Requirement already satisfied: torch in /usr/local/lib/python3.11/dist-packages (2.6.0+cu124)\n",
            "Requirement already satisfied: filelock in /usr/local/lib/python3.11/dist-packages (from torch) (3.18.0)\n",
            "Requirement already satisfied: typing-extensions>=4.10.0 in /usr/local/lib/python3.11/dist-packages (from torch) (4.14.1)\n",
            "Requirement already satisfied: networkx in /usr/local/lib/python3.11/dist-packages (from torch) (3.5)\n",
            "Requirement already satisfied: jinja2 in /usr/local/lib/python3.11/dist-packages (from torch) (3.1.6)\n",
            "Requirement already satisfied: fsspec in /usr/local/lib/python3.11/dist-packages (from torch) (2025.3.0)\n",
            "Requirement already satisfied: nvidia-cuda-nvrtc-cu12==12.4.127 in /usr/local/lib/python3.11/dist-packages (from torch) (12.4.127)\n",
            "Requirement already satisfied: nvidia-cuda-runtime-cu12==12.4.127 in /usr/local/lib/python3.11/dist-packages (from torch) (12.4.127)\n",
            "Requirement already satisfied: nvidia-cuda-cupti-cu12==12.4.127 in /usr/local/lib/python3.11/dist-packages (from torch) (12.4.127)\n",
            "Requirement already satisfied: nvidia-cudnn-cu12==9.1.0.70 in /usr/local/lib/python3.11/dist-packages (from torch) (9.1.0.70)\n",
            "Requirement already satisfied: nvidia-cublas-cu12==12.4.5.8 in /usr/local/lib/python3.11/dist-packages (from torch) (12.4.5.8)\n",
            "Requirement already satisfied: nvidia-cufft-cu12==11.2.1.3 in /usr/local/lib/python3.11/dist-packages (from torch) (11.2.1.3)\n",
            "Requirement already satisfied: nvidia-curand-cu12==10.3.5.147 in /usr/local/lib/python3.11/dist-packages (from torch) (10.3.5.147)\n",
            "Requirement already satisfied: nvidia-cusolver-cu12==11.6.1.9 in /usr/local/lib/python3.11/dist-packages (from torch) (11.6.1.9)\n",
            "Requirement already satisfied: nvidia-cusparse-cu12==12.3.1.170 in /usr/local/lib/python3.11/dist-packages (from torch) (12.3.1.170)\n",
            "Requirement already satisfied: nvidia-cusparselt-cu12==0.6.2 in /usr/local/lib/python3.11/dist-packages (from torch) (0.6.2)\n",
            "Requirement already satisfied: nvidia-nccl-cu12==2.21.5 in /usr/local/lib/python3.11/dist-packages (from torch) (2.21.5)\n",
            "Requirement already satisfied: nvidia-nvtx-cu12==12.4.127 in /usr/local/lib/python3.11/dist-packages (from torch) (12.4.127)\n",
            "Requirement already satisfied: nvidia-nvjitlink-cu12==12.4.127 in /usr/local/lib/python3.11/dist-packages (from torch) (12.4.127)\n",
            "Requirement already satisfied: triton==3.2.0 in /usr/local/lib/python3.11/dist-packages (from torch) (3.2.0)\n",
            "Requirement already satisfied: sympy==1.13.1 in /usr/local/lib/python3.11/dist-packages (from torch) (1.13.1)\n",
            "Requirement already satisfied: mpmath<1.4,>=1.1.0 in /usr/local/lib/python3.11/dist-packages (from sympy==1.13.1->torch) (1.3.0)\n",
            "Requirement already satisfied: MarkupSafe>=2.0 in /usr/local/lib/python3.11/dist-packages (from jinja2->torch) (3.0.2)\n",
            "Requirement already satisfied: Pillow in /usr/local/lib/python3.11/dist-packages (11.3.0)\n",
            "Requirement already satisfied: tqdm in /usr/local/lib/python3.11/dist-packages (4.67.1)\n"
          ]
        }
      ],
      "source": [
        "!pip install transformers\n",
        "!pip install sentence-transformers\n",
        "!pip install torch\n",
        "!pip install Pillow\n",
        "!pip install tqdm\n"
      ]
    },
    {
      "cell_type": "markdown",
      "source": [
        "#  Step 2: CSV 파일 업로드\n"
      ],
      "metadata": {
        "id": "1gs2Hi9vuDmT"
      }
    },
    {
      "cell_type": "code",
      "source": [
        "from google.colab import files\n",
        "uploaded = files.upload()"
      ],
      "metadata": {
        "colab": {
          "base_uri": "https://localhost:8080/",
          "height": 72
        },
        "id": "_lky_quJt7WQ",
        "outputId": "0c34727e-2b44-4ac5-91b3-50865ffbf86b"
      },
      "execution_count": 2,
      "outputs": [
        {
          "output_type": "display_data",
          "data": {
            "text/plain": [
              "<IPython.core.display.HTML object>"
            ],
            "text/html": [
              "\n",
              "     <input type=\"file\" id=\"files-08dcb90b-9634-4f9c-bbbe-d002a5d77fa6\" name=\"files[]\" multiple disabled\n",
              "        style=\"border:none\" />\n",
              "     <output id=\"result-08dcb90b-9634-4f9c-bbbe-d002a5d77fa6\">\n",
              "      Upload widget is only available when the cell has been executed in the\n",
              "      current browser session. Please rerun this cell to enable.\n",
              "      </output>\n",
              "      <script>// Copyright 2017 Google LLC\n",
              "//\n",
              "// Licensed under the Apache License, Version 2.0 (the \"License\");\n",
              "// you may not use this file except in compliance with the License.\n",
              "// You may obtain a copy of the License at\n",
              "//\n",
              "//      http://www.apache.org/licenses/LICENSE-2.0\n",
              "//\n",
              "// Unless required by applicable law or agreed to in writing, software\n",
              "// distributed under the License is distributed on an \"AS IS\" BASIS,\n",
              "// WITHOUT WARRANTIES OR CONDITIONS OF ANY KIND, either express or implied.\n",
              "// See the License for the specific language governing permissions and\n",
              "// limitations under the License.\n",
              "\n",
              "/**\n",
              " * @fileoverview Helpers for google.colab Python module.\n",
              " */\n",
              "(function(scope) {\n",
              "function span(text, styleAttributes = {}) {\n",
              "  const element = document.createElement('span');\n",
              "  element.textContent = text;\n",
              "  for (const key of Object.keys(styleAttributes)) {\n",
              "    element.style[key] = styleAttributes[key];\n",
              "  }\n",
              "  return element;\n",
              "}\n",
              "\n",
              "// Max number of bytes which will be uploaded at a time.\n",
              "const MAX_PAYLOAD_SIZE = 100 * 1024;\n",
              "\n",
              "function _uploadFiles(inputId, outputId) {\n",
              "  const steps = uploadFilesStep(inputId, outputId);\n",
              "  const outputElement = document.getElementById(outputId);\n",
              "  // Cache steps on the outputElement to make it available for the next call\n",
              "  // to uploadFilesContinue from Python.\n",
              "  outputElement.steps = steps;\n",
              "\n",
              "  return _uploadFilesContinue(outputId);\n",
              "}\n",
              "\n",
              "// This is roughly an async generator (not supported in the browser yet),\n",
              "// where there are multiple asynchronous steps and the Python side is going\n",
              "// to poll for completion of each step.\n",
              "// This uses a Promise to block the python side on completion of each step,\n",
              "// then passes the result of the previous step as the input to the next step.\n",
              "function _uploadFilesContinue(outputId) {\n",
              "  const outputElement = document.getElementById(outputId);\n",
              "  const steps = outputElement.steps;\n",
              "\n",
              "  const next = steps.next(outputElement.lastPromiseValue);\n",
              "  return Promise.resolve(next.value.promise).then((value) => {\n",
              "    // Cache the last promise value to make it available to the next\n",
              "    // step of the generator.\n",
              "    outputElement.lastPromiseValue = value;\n",
              "    return next.value.response;\n",
              "  });\n",
              "}\n",
              "\n",
              "/**\n",
              " * Generator function which is called between each async step of the upload\n",
              " * process.\n",
              " * @param {string} inputId Element ID of the input file picker element.\n",
              " * @param {string} outputId Element ID of the output display.\n",
              " * @return {!Iterable<!Object>} Iterable of next steps.\n",
              " */\n",
              "function* uploadFilesStep(inputId, outputId) {\n",
              "  const inputElement = document.getElementById(inputId);\n",
              "  inputElement.disabled = false;\n",
              "\n",
              "  const outputElement = document.getElementById(outputId);\n",
              "  outputElement.innerHTML = '';\n",
              "\n",
              "  const pickedPromise = new Promise((resolve) => {\n",
              "    inputElement.addEventListener('change', (e) => {\n",
              "      resolve(e.target.files);\n",
              "    });\n",
              "  });\n",
              "\n",
              "  const cancel = document.createElement('button');\n",
              "  inputElement.parentElement.appendChild(cancel);\n",
              "  cancel.textContent = 'Cancel upload';\n",
              "  const cancelPromise = new Promise((resolve) => {\n",
              "    cancel.onclick = () => {\n",
              "      resolve(null);\n",
              "    };\n",
              "  });\n",
              "\n",
              "  // Wait for the user to pick the files.\n",
              "  const files = yield {\n",
              "    promise: Promise.race([pickedPromise, cancelPromise]),\n",
              "    response: {\n",
              "      action: 'starting',\n",
              "    }\n",
              "  };\n",
              "\n",
              "  cancel.remove();\n",
              "\n",
              "  // Disable the input element since further picks are not allowed.\n",
              "  inputElement.disabled = true;\n",
              "\n",
              "  if (!files) {\n",
              "    return {\n",
              "      response: {\n",
              "        action: 'complete',\n",
              "      }\n",
              "    };\n",
              "  }\n",
              "\n",
              "  for (const file of files) {\n",
              "    const li = document.createElement('li');\n",
              "    li.append(span(file.name, {fontWeight: 'bold'}));\n",
              "    li.append(span(\n",
              "        `(${file.type || 'n/a'}) - ${file.size} bytes, ` +\n",
              "        `last modified: ${\n",
              "            file.lastModifiedDate ? file.lastModifiedDate.toLocaleDateString() :\n",
              "                                    'n/a'} - `));\n",
              "    const percent = span('0% done');\n",
              "    li.appendChild(percent);\n",
              "\n",
              "    outputElement.appendChild(li);\n",
              "\n",
              "    const fileDataPromise = new Promise((resolve) => {\n",
              "      const reader = new FileReader();\n",
              "      reader.onload = (e) => {\n",
              "        resolve(e.target.result);\n",
              "      };\n",
              "      reader.readAsArrayBuffer(file);\n",
              "    });\n",
              "    // Wait for the data to be ready.\n",
              "    let fileData = yield {\n",
              "      promise: fileDataPromise,\n",
              "      response: {\n",
              "        action: 'continue',\n",
              "      }\n",
              "    };\n",
              "\n",
              "    // Use a chunked sending to avoid message size limits. See b/62115660.\n",
              "    let position = 0;\n",
              "    do {\n",
              "      const length = Math.min(fileData.byteLength - position, MAX_PAYLOAD_SIZE);\n",
              "      const chunk = new Uint8Array(fileData, position, length);\n",
              "      position += length;\n",
              "\n",
              "      const base64 = btoa(String.fromCharCode.apply(null, chunk));\n",
              "      yield {\n",
              "        response: {\n",
              "          action: 'append',\n",
              "          file: file.name,\n",
              "          data: base64,\n",
              "        },\n",
              "      };\n",
              "\n",
              "      let percentDone = fileData.byteLength === 0 ?\n",
              "          100 :\n",
              "          Math.round((position / fileData.byteLength) * 100);\n",
              "      percent.textContent = `${percentDone}% done`;\n",
              "\n",
              "    } while (position < fileData.byteLength);\n",
              "  }\n",
              "\n",
              "  // All done.\n",
              "  yield {\n",
              "    response: {\n",
              "      action: 'complete',\n",
              "    }\n",
              "  };\n",
              "}\n",
              "\n",
              "scope.google = scope.google || {};\n",
              "scope.google.colab = scope.google.colab || {};\n",
              "scope.google.colab._files = {\n",
              "  _uploadFiles,\n",
              "  _uploadFilesContinue,\n",
              "};\n",
              "})(self);\n",
              "</script> "
            ]
          },
          "metadata": {}
        },
        {
          "output_type": "stream",
          "name": "stdout",
          "text": [
            "Saving store_product_DB.csv to store_product_DB.csv\n"
          ]
        }
      ]
    },
    {
      "cell_type": "markdown",
      "source": [
        "# Step 3: 데이터 불러오기 및 전처리"
      ],
      "metadata": {
        "id": "LUY4zIa_uOuz"
      }
    },
    {
      "cell_type": "code",
      "source": [
        "import pandas as pd\n",
        "\n",
        "df = pd.read_csv(\"store_product_DB.csv\")\n",
        "df = df.fillna(\"\")  # NaN 방지\n",
        "df[\"combined_text\"] = df[\"BRAND_ID\"].astype(str) + \" \" + df[\"NAME\"] + \" \" + df[\"DESCRIPTION\"] + \" \" + df[\"CATEGORY\"] + \" \" + df[\"STYLE\"] + \" \" + df[\"FIT\"]\n"
      ],
      "metadata": {
        "id": "vUnZnEnUuB6P"
      },
      "execution_count": 3,
      "outputs": []
    },
    {
      "cell_type": "markdown",
      "source": [
        "# Step 4: 모델 불러오기"
      ],
      "metadata": {
        "id": "j6ecyFcVuXtA"
      }
    },
    {
      "cell_type": "code",
      "source": [
        "from sentence_transformers import SentenceTransformer\n",
        "from transformers import CLIPProcessor, CLIPModel\n",
        "import torch\n",
        "from PIL import Image\n",
        "from io import BytesIO\n",
        "import numpy as np\n",
        "import requests\n",
        "from tqdm import tqdm\n",
        "\n",
        "kobert = SentenceTransformer('snunlp/KR-SBERT-V40K-klueNLI-augSTS')\n",
        "clip_model = CLIPModel.from_pretrained(\"openai/clip-vit-base-patch32\")\n",
        "clip_processor = CLIPProcessor.from_pretrained(\"openai/clip-vit-base-patch32\")\n"
      ],
      "metadata": {
        "colab": {
          "base_uri": "https://localhost:8080/",
          "height": 830,
          "referenced_widgets": [
            "cfab94a384c94013a0f4a4ca67f8b047",
            "02dd909d03d745e087dbd8e537736d9b",
            "0459cae6f8a4445fad74dd97d2db5cc3",
            "24ae5263f06a43149f5910be5674f837",
            "60a28f1cd66841e4be0449e814df8abc",
            "b40f6dad0e0d4194a01062c2c2c3bde0",
            "747c7943d70a416d86ea170fc3bd8db1",
            "8866c1f867114c3a8b957b98f8943fab",
            "4b7813e1e88346a29be380b02c6681f3",
            "b5e0a05c02b24a5592145b5f0491386e",
            "a42b10d9cd0b4c09819ac68fc6e25d76",
            "1fd73357a56e4196b773f93cb1d21d21",
            "39e0b42bb0b7496fa815db04143bc408",
            "cd93132592a74fee98547ac5a732ea67",
            "11a6cfcfd5454214bb1bdc7d6f2c896d",
            "5bbea1f4d96b4350b501e532488da667",
            "3e5ab473f69a49259cb4c189af96c9a1",
            "35d81f7d9198428b98765d7e31684ff0",
            "3b0cbf366f66471cae0a6199af8eaa63",
            "61b7411317e04d3fb239b0fdf900070e",
            "a3e1a611581845d586681d38b863b7fb",
            "a72a57526c7b414fa75572773a073366",
            "ed613784c2c24a62ae8390d56d0dc758",
            "4445163eb4d640e59496283e24b20137",
            "61bb34045eac4ca1993cd1edf9d8157f",
            "b5d9334ff1a74a6fb60dfc33e56a0ceb",
            "0404d575bc494dc1953389156ec5f221",
            "e06ca2312d2e424a857af1d54f773bde",
            "abf35853ca9246248388fc1fd1c44721",
            "83a502c8711f423d87cdf93a2685a679",
            "000c7dbac78840449cb9a5b3babebc19",
            "3c2eab9f1be8455db9799200acc99f13",
            "6424ccf75f1849d8b41aa99c4ac54d8f",
            "e013510a309546879c9d709717813717",
            "ab39f6862d3f4475af1ac3c46071e837",
            "18305e1763a64d4a8b65e4d1025227dc",
            "687569e0758e493c8edecb45bacd5a98",
            "14ac11d4711245e5b67f5ef306097815",
            "b39b9711b97c4573802aa24bd25bfac1",
            "e7e3784426df43c0ae879989b33799a5",
            "bf72ad7090e84b16a06484f64ac4de22",
            "44497f4426e1427d9f14706711c21d56",
            "fc34a84949b34d76a80923b249d792bb",
            "44a22f6bddf242b5827801fc064abbdb",
            "c23aa897badf44d685225ef477967ab9",
            "02957f13d5994f0dbcd8ac8ef16d3c25",
            "7a936310ebf94fd597bd270066f98b74",
            "91754777726d4cafb03ab2875455bb93",
            "5bc24e62e9d841a09760f1f05c117660",
            "f166c42950fb432e8d3c94997b50940d",
            "0e7fbacc90d542cd9670386059c85351",
            "67306d6e490e449585b8688c0e79a781",
            "ff646b8acd5e4625a3fec502de1e0dd6",
            "40adc0287b104ec58de12d4ca08f643e",
            "ac185ba9a7e04938b44dac99f46e5266",
            "cb63a714bcc64c9e957755d500e6fe00",
            "9651179c90e1444e807f0252d4df2762",
            "c402a12d8fa94bfba9f9f677e2165f7f",
            "a550220161d24323bdbeff15a030a866",
            "79d504d1f5d246939044d675793c1f02",
            "90b5bcf74cd1420c9166a071fd17d37f",
            "7b490288f6b84a419759fb321b11a846",
            "da74c08e365d494c876dc4b16f2566c1",
            "b5a6c45d8923420abd965eddbba4e4bd",
            "c33b43a25847432c8539a7f2157806ee",
            "fac73da3d25c4d2db5e132c603a838dd",
            "f8adc32855904962ba4b8126e055ddc3",
            "aafa8dd7b7b247e098b48cee6b0a35d0",
            "19f4118dbcf04135869491197a4b326f",
            "846acf49e1ca4661b19a2b9224a11db4",
            "a3a39a5addf542e0ba36f73aab8593a0",
            "f659fbe7b2c047a4ac2db0813562aa44",
            "2366d62a608f45bf94a0a144d26861ed",
            "3beefb7b86c04ea8b54dc8e19930ca4e",
            "096f7eee988e4238a989d13f96bb16a0",
            "bf0fd8c441d041e28dd7d2b5963d5d39",
            "65a10181041f4bc589f2cee339097082",
            "b4b1dbe1f6f447348a0f6944ca8c06c4",
            "74a195c10c55422da3cf0c5c47853995",
            "7e18311341d444659af9c8ab97f54409",
            "76e11ab50a2a495290f6e77e71b48d4d",
            "51d4275b30f1407fb93f8a117fb0f6c9",
            "ac522b256d1c4572b52374df1370d855",
            "d31f5ab7e8b149d58111e276a97f418c",
            "365aa0f166c94a94b745a3e8fe648e72",
            "9fd2cf6ea39e46859c35098c0b78cfee",
            "9c59d1b1b04c4be0b4b0baa21724f69c",
            "806d4c50c0cc418c946ac4bc2e757aa9",
            "f4412bd361c149038f214b5e886ab60e",
            "60b726a92d3d44f19336e43d5189337e",
            "74fdd31ed48e43f4ac28cd3f38628445",
            "dc5e2ee5667740dcb09ab05b2612fe6d",
            "8cd7b0834cde49a99ca52765c06a874a",
            "902329474269476281a4760ec40e91b4",
            "f50d99f9464f46cb9c01ec35a4411817",
            "36bbc21954db406f92b8594d033cd868",
            "24db0bd9f5c149fa94c173551b3e4293",
            "53017923c4f64feeb1ec2e95ccfca36d",
            "dfbfb8dfc6db46d698ae44ce297115e3",
            "4031f686e26b4050960a462fdbff3f47",
            "ff4f428358104bc396819bbc32607411",
            "e6d74ccc7f0943bdac57305f8b3e13fc",
            "de37f5f01957472eadd3cfccbab7a12a",
            "b3ab5d6d6aa343d6919c72af4812b797",
            "8fb88c50c2884f4eb63ed57472ce4279",
            "530181e1266545daab0caeeeb3d27264",
            "6acf67779610425386394d68b84f92ca",
            "28035b65bcb14e2c95c407f921ac4879",
            "d8dc0f2d99644928b313884eb6bcbba5",
            "e89bf61279d54ee1bc622b01a0139d1f",
            "e910426216844c6a8d65c66e55beb591",
            "00a7c699dad346139fd0244049caaed0",
            "dd261616129147f982d1f76bcb433c33",
            "1a86d46ba4e14adc9c6eab23ffb2f12e",
            "73c15c3f341443f8bf43f6d0bcb4b1cf",
            "955bc29d8cce45468ae955d12676cdfa",
            "5136050617e748d79f35a92e40e74998",
            "bd17a8b89498427e8b6ec9d9c65e6e28",
            "29959cb89b2747338aff8d41e888e075",
            "b7dcf51d79ea4353a2a4d80a44be50ba",
            "edb256f68fd0458da181103b2ddf0b59",
            "a98be309d7de45ec9b3e2528bf57f603",
            "25317ba9099c4a7e9aa47484d2e3d042",
            "bc5b8da903bc4f469b5f183b0aedea4a",
            "e16e5556db2245daa621538be89659df",
            "b46ed68d89fe41a6a03c1a13c6b674dc",
            "092a3b2b1eaf456aa1e04d631416bea3",
            "e3c2a85f442a4bf0abafece0ab6d3e97",
            "1e77b7f778d84667883d078d3fea858d",
            "ffaea50a9e914e5a8b65edb7da745909",
            "56584ce924cf43c2bdca197954311e24",
            "e5b8c65ee49c452ba0c1a830d0f9ea76",
            "02d3e9f250ce41b098c12c5f5fc4816a",
            "0ef1418d787249bdb327170934b6998d",
            "b7e3dfae97584110a32c2a2decd7406e",
            "9f65399314f84491aa10bfc9f3e021df",
            "95812fc3a2f040ac8ef1a53536a68979",
            "967dbcb6d3a042c4b15627f2b37f54de",
            "1a52b9097a474c5e802bc5da0e2e38af",
            "14fdf2c66e354edd820ad2f723ace781",
            "c3500a1ee22f46da9efd26fbed16595c",
            "3806c3fb887c47bea3f7bc93dcf75cd0",
            "5749adc0fc2048dcadf54f394ba4d56e",
            "69d4bd4acc674c5792f097afdeee9aa6",
            "2f4ae95e65724ef585b3e86c5ffb7c1e",
            "4a8f686401404b36a84e8b927cec4044",
            "ca65cd1771f6404eb47c4158a06d75dd",
            "82ba30c4ba79443098f3a6c0e03f1998",
            "62d2e4ec47e2459a83ea4450e4439f32",
            "96d0dc4444514df9b50faaddefe74560",
            "cae06e4d36f04fc0b0bf2e9115473d42",
            "b09badc3c8234329919b4f2968e1de3f",
            "4c7bd84f54494516b6cd3ae6c27ddecd",
            "52d9b04d65a04d77bc78e23ffe57e119",
            "cbe626264e7f46b7939a45a423f4dac3",
            "daaf352dae134442a089bfeb52ed69bf",
            "819d9434ee1541b9b1c2bb09013053ee",
            "6a55cdfb680a4dbc8c1a1e4fdd300d2d",
            "5da31274c83f4dd5ad75ab5db505c90a",
            "51694665ca6046aa948090cf4107dbd1",
            "0b27ccb34c854d0a8f1bb73decc318ba",
            "13d1358c4b6e4f66913d8eee3202fdd3",
            "a983b5cc0cdc450f819be9e0f45d45b7",
            "9b5200c38bef4d93ace943cb6b54636a",
            "0cb01cb03aca4db2b02b270ca5cad481",
            "c00e72c6a5b4400f88cc3e283ed04f0d",
            "3ba854b7733f4b6794e1c651e83c90c1",
            "cccaf5dbe77942c3a9db2bb67a994c1e",
            "0d62a47479fc4c16b4209a63cdfe5941",
            "6f7721f821a941b5acd8b42a5c9901e7",
            "2a77203313ee40c7bea8f9dcb22611ff",
            "cf95d8ce54234dcca8e34105eb5224a6",
            "61950462f40e4ac9aeaa5b1cee469ffe",
            "dd6ba382144649f1be9db3c40671ae5a",
            "394893ddefb6460f93fcc75ea7f8f915",
            "3785bf775e9e4668b5a8caafa3e7120b",
            "2e77a0eb7f1f46029e550518f154ca26",
            "4f0ec23f817243f3b1f3f651d4784b22",
            "55a2b41f69e84cbf9cd0e52ee0810cb1",
            "7988b0d22a1341babaa19a6de14d1c61",
            "96b79a4533034e26a2ccf27bd5453ee1",
            "31d874999d8a453999c59cf288b58cbe",
            "f7a2f3d30f0f43619fd9130d781668b2",
            "d66335627165440cadcda976a8df9488",
            "2dbee39f2a414c13beb7b8db9d0961a9",
            "c3f1dbde8ad348f7a532018d508b7dbb",
            "50ea251f4d1a4656b18ec889727cdca9",
            "272a05f669134441a67b3a563822d9ec",
            "b7e62a835222412095a8f411e00cf899",
            "47e8a68730a7402e873685060656160e",
            "849af36789f84b31aa0b9a6696b7700a",
            "0c4ae21fbf634c78bc4948d221a3f692",
            "ddc636f7385f46ff84c085e3fc97a95f",
            "b282341876d0436ea756478009c98568",
            "0c5be2dd185a4d81956636d884cb03f5",
            "555c11df14ca4a54a873c4cb9fac946f",
            "ad652d5c38034fcc9a338238bf7e41da",
            "589ab795931f468eaa94300bb465dcae",
            "f2ae59844020423ca6fc662ecd18cda4",
            "24c4d167ab694a1293cd2d4b767b9f59",
            "529bfa48c9224abaa863d631cb3d422d",
            "e4de229edd8e46cea506449129a92c04",
            "a71197b1b40c41ec8537e2d681c98973",
            "5840e3751fee4bbdbea67bca886e36a1",
            "8a9d373f3166447c8b7e315a2c916760",
            "ca46ddfa31d34a86a97127e5b67f80b6",
            "2207590f29964915956a9c2fcefc0f20",
            "48a7cd4e36494533a21e0a1dece2195c",
            "a6537ff6de414ac59f1b17c65bf8c008",
            "2569f2bd35ae46729f8d5120a3dd0b7f",
            "f1d55c6ebf9644ce9501757977557650",
            "f270ebb515fa45d082a673d95fc960a6",
            "44b1e731b2734bb9b4aaff52046986a3",
            "05920a32db9143fc9bd9f5952bceb97e",
            "a9bea8be10454273993fd000e2f97a2a",
            "426cf24512e74a389571a8fa73876e70",
            "4d364794705a43ebbb7bcddef2487c21",
            "86238e1ec9b1457baa2dc3ca4e5551c9",
            "36c956abf050430a94efb1362e3e6a9f",
            "9d78269d8de6452d8603dbfec77b003e",
            "e50317935a4d4479a73562daab82f5b5",
            "62ccf682315247ccb4100e4c1155e2be",
            "b91f7ed43488496b8bd0c8791e0c8792",
            "b256887c6a25428888ca06a88edab5a6",
            "3f735c200ab549d99a4607a1694e6974",
            "84ee4ccebf2c46089f64fb3b6d0e0153",
            "fe51e8127bb54ac2aafc7ee5e2c85f4d",
            "256b77b0a37e4db692e78eba8464da61",
            "d5d93d06cb194a0bbe3ded710dc93242",
            "0752e4f6baf4492d8b5c7bc72e6815ae",
            "c494221380a34be4b1c6e9e81e83b75e"
          ]
        },
        "id": "4NfAO8PuuZIB",
        "outputId": "1bdb1d11-ae75-4de9-db28-f84315fc871b"
      },
      "execution_count": 4,
      "outputs": [
        {
          "output_type": "stream",
          "name": "stderr",
          "text": [
            "/usr/local/lib/python3.11/dist-packages/huggingface_hub/utils/_auth.py:94: UserWarning: \n",
            "The secret `HF_TOKEN` does not exist in your Colab secrets.\n",
            "To authenticate with the Hugging Face Hub, create a token in your settings tab (https://huggingface.co/settings/tokens), set it as secret in your Google Colab and restart your session.\n",
            "You will be able to reuse this secret in all of your notebooks.\n",
            "Please note that authentication is recommended but still optional to access public models or datasets.\n",
            "  warnings.warn(\n"
          ]
        },
        {
          "output_type": "display_data",
          "data": {
            "text/plain": [
              "modules.json:   0%|          | 0.00/229 [00:00<?, ?B/s]"
            ],
            "application/vnd.jupyter.widget-view+json": {
              "version_major": 2,
              "version_minor": 0,
              "model_id": "cfab94a384c94013a0f4a4ca67f8b047"
            }
          },
          "metadata": {}
        },
        {
          "output_type": "display_data",
          "data": {
            "text/plain": [
              "config_sentence_transformers.json:   0%|          | 0.00/124 [00:00<?, ?B/s]"
            ],
            "application/vnd.jupyter.widget-view+json": {
              "version_major": 2,
              "version_minor": 0,
              "model_id": "1fd73357a56e4196b773f93cb1d21d21"
            }
          },
          "metadata": {}
        },
        {
          "output_type": "display_data",
          "data": {
            "text/plain": [
              "README.md: 0.00B [00:00, ?B/s]"
            ],
            "application/vnd.jupyter.widget-view+json": {
              "version_major": 2,
              "version_minor": 0,
              "model_id": "ed613784c2c24a62ae8390d56d0dc758"
            }
          },
          "metadata": {}
        },
        {
          "output_type": "display_data",
          "data": {
            "text/plain": [
              "sentence_bert_config.json:   0%|          | 0.00/53.0 [00:00<?, ?B/s]"
            ],
            "application/vnd.jupyter.widget-view+json": {
              "version_major": 2,
              "version_minor": 0,
              "model_id": "e013510a309546879c9d709717813717"
            }
          },
          "metadata": {}
        },
        {
          "output_type": "display_data",
          "data": {
            "text/plain": [
              "config.json:   0%|          | 0.00/707 [00:00<?, ?B/s]"
            ],
            "application/vnd.jupyter.widget-view+json": {
              "version_major": 2,
              "version_minor": 0,
              "model_id": "c23aa897badf44d685225ef477967ab9"
            }
          },
          "metadata": {}
        },
        {
          "output_type": "display_data",
          "data": {
            "text/plain": [
              "pytorch_model.bin:   0%|          | 0.00/467M [00:00<?, ?B/s]"
            ],
            "application/vnd.jupyter.widget-view+json": {
              "version_major": 2,
              "version_minor": 0,
              "model_id": "cb63a714bcc64c9e957755d500e6fe00"
            }
          },
          "metadata": {}
        },
        {
          "output_type": "display_data",
          "data": {
            "text/plain": [
              "tokenizer_config.json:   0%|          | 0.00/394 [00:00<?, ?B/s]"
            ],
            "application/vnd.jupyter.widget-view+json": {
              "version_major": 2,
              "version_minor": 0,
              "model_id": "f8adc32855904962ba4b8126e055ddc3"
            }
          },
          "metadata": {}
        },
        {
          "output_type": "display_data",
          "data": {
            "text/plain": [
              "vocab.txt: 0.00B [00:00, ?B/s]"
            ],
            "application/vnd.jupyter.widget-view+json": {
              "version_major": 2,
              "version_minor": 0,
              "model_id": "b4b1dbe1f6f447348a0f6944ca8c06c4"
            }
          },
          "metadata": {}
        },
        {
          "output_type": "display_data",
          "data": {
            "text/plain": [
              "model.safetensors:   0%|          | 0.00/467M [00:00<?, ?B/s]"
            ],
            "application/vnd.jupyter.widget-view+json": {
              "version_major": 2,
              "version_minor": 0,
              "model_id": "f4412bd361c149038f214b5e886ab60e"
            }
          },
          "metadata": {}
        },
        {
          "output_type": "display_data",
          "data": {
            "text/plain": [
              "tokenizer.json: 0.00B [00:00, ?B/s]"
            ],
            "application/vnd.jupyter.widget-view+json": {
              "version_major": 2,
              "version_minor": 0,
              "model_id": "4031f686e26b4050960a462fdbff3f47"
            }
          },
          "metadata": {}
        },
        {
          "output_type": "display_data",
          "data": {
            "text/plain": [
              "special_tokens_map.json:   0%|          | 0.00/112 [00:00<?, ?B/s]"
            ],
            "application/vnd.jupyter.widget-view+json": {
              "version_major": 2,
              "version_minor": 0,
              "model_id": "e910426216844c6a8d65c66e55beb591"
            }
          },
          "metadata": {}
        },
        {
          "output_type": "display_data",
          "data": {
            "text/plain": [
              "config.json:   0%|          | 0.00/190 [00:00<?, ?B/s]"
            ],
            "application/vnd.jupyter.widget-view+json": {
              "version_major": 2,
              "version_minor": 0,
              "model_id": "a98be309d7de45ec9b3e2528bf57f603"
            }
          },
          "metadata": {}
        },
        {
          "output_type": "display_data",
          "data": {
            "text/plain": [
              "config.json: 0.00B [00:00, ?B/s]"
            ],
            "application/vnd.jupyter.widget-view+json": {
              "version_major": 2,
              "version_minor": 0,
              "model_id": "02d3e9f250ce41b098c12c5f5fc4816a"
            }
          },
          "metadata": {}
        },
        {
          "output_type": "display_data",
          "data": {
            "text/plain": [
              "pytorch_model.bin:   0%|          | 0.00/605M [00:00<?, ?B/s]"
            ],
            "application/vnd.jupyter.widget-view+json": {
              "version_major": 2,
              "version_minor": 0,
              "model_id": "69d4bd4acc674c5792f097afdeee9aa6"
            }
          },
          "metadata": {}
        },
        {
          "output_type": "stream",
          "name": "stderr",
          "text": [
            "Using a slow image processor as `use_fast` is unset and a slow processor was saved with this model. `use_fast=True` will be the default behavior in v4.52, even if the model was saved with a slow processor. This will result in minor differences in outputs. You'll still be able to use a slow processor with `use_fast=False`.\n"
          ]
        },
        {
          "output_type": "display_data",
          "data": {
            "text/plain": [
              "preprocessor_config.json:   0%|          | 0.00/316 [00:00<?, ?B/s]"
            ],
            "application/vnd.jupyter.widget-view+json": {
              "version_major": 2,
              "version_minor": 0,
              "model_id": "cbe626264e7f46b7939a45a423f4dac3"
            }
          },
          "metadata": {}
        },
        {
          "output_type": "display_data",
          "data": {
            "text/plain": [
              "tokenizer_config.json:   0%|          | 0.00/592 [00:00<?, ?B/s]"
            ],
            "application/vnd.jupyter.widget-view+json": {
              "version_major": 2,
              "version_minor": 0,
              "model_id": "c00e72c6a5b4400f88cc3e283ed04f0d"
            }
          },
          "metadata": {}
        },
        {
          "output_type": "display_data",
          "data": {
            "text/plain": [
              "model.safetensors:   0%|          | 0.00/605M [00:00<?, ?B/s]"
            ],
            "application/vnd.jupyter.widget-view+json": {
              "version_major": 2,
              "version_minor": 0,
              "model_id": "2e77a0eb7f1f46029e550518f154ca26"
            }
          },
          "metadata": {}
        },
        {
          "output_type": "display_data",
          "data": {
            "text/plain": [
              "vocab.json: 0.00B [00:00, ?B/s]"
            ],
            "application/vnd.jupyter.widget-view+json": {
              "version_major": 2,
              "version_minor": 0,
              "model_id": "272a05f669134441a67b3a563822d9ec"
            }
          },
          "metadata": {}
        },
        {
          "output_type": "display_data",
          "data": {
            "text/plain": [
              "merges.txt: 0.00B [00:00, ?B/s]"
            ],
            "application/vnd.jupyter.widget-view+json": {
              "version_major": 2,
              "version_minor": 0,
              "model_id": "f2ae59844020423ca6fc662ecd18cda4"
            }
          },
          "metadata": {}
        },
        {
          "output_type": "display_data",
          "data": {
            "text/plain": [
              "tokenizer.json: 0.00B [00:00, ?B/s]"
            ],
            "application/vnd.jupyter.widget-view+json": {
              "version_major": 2,
              "version_minor": 0,
              "model_id": "2569f2bd35ae46729f8d5120a3dd0b7f"
            }
          },
          "metadata": {}
        },
        {
          "output_type": "display_data",
          "data": {
            "text/plain": [
              "special_tokens_map.json:   0%|          | 0.00/389 [00:00<?, ?B/s]"
            ],
            "application/vnd.jupyter.widget-view+json": {
              "version_major": 2,
              "version_minor": 0,
              "model_id": "e50317935a4d4479a73562daab82f5b5"
            }
          },
          "metadata": {}
        }
      ]
    },
    {
      "cell_type": "markdown",
      "source": [
        "# Step 5: 임베딩 생성 함수"
      ],
      "metadata": {
        "id": "i1ipks-IucLt"
      }
    },
    {
      "cell_type": "code",
      "source": [
        "SEASONS = [\"봄\", \"여름\", \"가을\", \"겨울\"]\n",
        "\n",
        "def encode_text(text):\n",
        "    return kobert.encode([text], normalize_embeddings=True)[0]\n",
        "\n",
        "def encode_image(image_url):\n",
        "    try:\n",
        "        response = requests.get(image_url, timeout=5)\n",
        "        image = Image.open(BytesIO(response.content)).convert(\"RGB\")\n",
        "        inputs = clip_processor(images=image, return_tensors=\"pt\")\n",
        "        with torch.no_grad():\n",
        "            img_vec = clip_model.get_image_features(**inputs)\n",
        "            img_vec = img_vec / img_vec.norm(dim=-1, keepdim=True)\n",
        "        return img_vec.squeeze().cpu().numpy()\n",
        "    except:\n",
        "        return np.zeros(512)\n",
        "\n",
        "def encode_season(season_str):\n",
        "    return np.array([1 if s in season_str else 0 for s in SEASONS], dtype=np.float32)\n",
        "\n",
        "def build_embedding(row):\n",
        "    text_vec = encode_text(row[\"combined_text\"])\n",
        "    img_vec = encode_image(row[\"IMAGE_URL\"])\n",
        "    season_vec = encode_season(row[\"SEASON\"])\n",
        "    combined = np.concatenate([text_vec, img_vec, season_vec])\n",
        "    norm = np.linalg.norm(combined)\n",
        "    return combined / norm if norm != 0 else combined\n"
      ],
      "metadata": {
        "id": "urMO6z1Ludu5"
      },
      "execution_count": 5,
      "outputs": []
    },
    {
      "cell_type": "markdown",
      "source": [
        "# Step 6: 유사도 계산"
      ],
      "metadata": {
        "id": "CyiPh2wCufjb"
      }
    },
    {
      "cell_type": "code",
      "source": [
        "embeddings = []\n",
        "for i, row in tqdm(df.iterrows(), total=len(df)):\n",
        "    vec = build_embedding(row)\n",
        "    embeddings.append((row[\"ID\"], vec))\n",
        "\n",
        "similarities = []\n",
        "for i, (id1, vec1) in enumerate(embeddings):\n",
        "    scores = []\n",
        "    for j, (id2, vec2) in enumerate(embeddings):\n",
        "        if id1 == id2:\n",
        "            continue\n",
        "        score = np.dot(vec1, vec2)\n",
        "        scores.append((id2, score))\n",
        "    scores.sort(key=lambda x: x[1], reverse=True)\n",
        "    top10 = scores[:10]\n",
        "    for target_id, score in top10:\n",
        "        similarities.append({\n",
        "            \"SOURCE_ID\": id1,\n",
        "            \"TARGET_ID\": target_id,\n",
        "            \"SCORE\": round(score, 4)\n",
        "        })\n"
      ],
      "metadata": {
        "colab": {
          "base_uri": "https://localhost:8080/",
          "height": 607
        },
        "id": "9y6PPAuFujct",
        "outputId": "d95aae57-97bd-4d36-ff70-625676dfe769"
      },
      "execution_count": 6,
      "outputs": [
        {
          "output_type": "stream",
          "name": "stderr",
          "text": [
            "\n",
            "  0%|          | 0/32 [00:00<?, ?it/s]\u001b[A\n",
            "  3%|▎         | 1/32 [00:03<01:39,  3.19s/it]\u001b[A\n",
            "  6%|▋         | 2/32 [00:03<00:50,  1.67s/it]\u001b[A\n",
            "  9%|▉         | 3/32 [00:04<00:35,  1.22s/it]\u001b[A\n",
            " 12%|█▎        | 4/32 [00:05<00:32,  1.17s/it]\u001b[A\n",
            " 16%|█▌        | 5/32 [00:06<00:30,  1.14s/it]\u001b[A\n",
            " 19%|█▉        | 6/32 [00:07<00:26,  1.02s/it]\u001b[A\n",
            " 22%|██▏       | 7/32 [00:08<00:22,  1.12it/s]\u001b[A\n",
            " 25%|██▌       | 8/32 [00:09<00:21,  1.10it/s]\u001b[A\n",
            " 28%|██▊       | 9/32 [00:09<00:20,  1.14it/s]\u001b[A\n",
            " 31%|███▏      | 10/32 [00:10<00:16,  1.31it/s]\u001b[A\n",
            " 34%|███▍      | 11/32 [00:11<00:16,  1.29it/s]\u001b[A\n",
            " 38%|███▊      | 12/32 [00:11<00:15,  1.31it/s]\u001b[A\n",
            " 41%|████      | 13/32 [00:12<00:14,  1.35it/s]\u001b[A\n",
            " 44%|████▍     | 14/32 [00:13<00:12,  1.49it/s]\u001b[A\n",
            " 47%|████▋     | 15/32 [00:13<00:11,  1.47it/s]\u001b[A\n",
            " 50%|█████     | 16/32 [00:15<00:14,  1.10it/s]\u001b[A\n",
            " 53%|█████▎    | 17/32 [00:16<00:16,  1.09s/it]\u001b[A\n",
            " 56%|█████▋    | 18/32 [00:18<00:16,  1.15s/it]\u001b[A\n",
            " 59%|█████▉    | 19/32 [00:19<00:16,  1.25s/it]\u001b[A\n",
            " 62%|██████▎   | 20/32 [00:20<00:14,  1.24s/it]\u001b[A\n",
            " 66%|██████▌   | 21/32 [00:22<00:14,  1.30s/it]\u001b[A\n",
            " 69%|██████▉   | 22/32 [00:23<00:13,  1.38s/it]\u001b[A\n",
            " 72%|███████▏  | 23/32 [00:24<00:10,  1.18s/it]\u001b[A\n",
            " 75%|███████▌  | 24/32 [00:25<00:08,  1.03s/it]\u001b[A\n",
            " 78%|███████▊  | 25/32 [00:25<00:06,  1.16it/s]\u001b[A\n",
            " 81%|████████▏ | 26/32 [00:26<00:04,  1.22it/s]\u001b[A\n",
            " 84%|████████▍ | 27/32 [00:27<00:03,  1.28it/s]\u001b[A\n",
            " 88%|████████▊ | 28/32 [00:27<00:02,  1.40it/s]\u001b[A\n",
            " 91%|█████████ | 29/32 [00:28<00:01,  1.56it/s]\u001b[A\n",
            " 94%|█████████▍| 30/32 [00:29<00:01,  1.32it/s]\u001b[A\n",
            " 97%|█████████▋| 31/32 [00:29<00:00,  1.40it/s]\u001b[A\n",
            "100%|██████████| 32/32 [00:30<00:00,  1.05it/s]\n"
          ]
        }
      ]
    },
    {
      "cell_type": "markdown",
      "source": [
        "# Step 7: DB 입력용 SQL 출력"
      ],
      "metadata": {
        "id": "0j-QRrLIuvht"
      }
    },
    {
      "cell_type": "code",
      "source": [
        "from datetime import datetime\n",
        "\n",
        "now = datetime.now().strftime(\"%Y-%m-%d %H:%M:%S\")\n",
        "\n",
        "insert_sqls = []\n",
        "for i, rec in enumerate(similarities):\n",
        "    insert_sqls.append(f\"INSERT INTO RECOMMEND_RESULT (ID, SOURCE_ID, TARGET_ID, SCORE, CREATED_AT, CREATED_BY) \"\n",
        "                       f\"VALUES (RECOMMEND_RESULT_SEQ.NEXTVAL, {rec['SOURCE_ID']}, {rec['TARGET_ID']}, \"\n",
        "                       f\"{rec['SCORE']}, TO_TIMESTAMP('{now}', 'YYYY-MM-DD HH24:MI:SS'), 0);\")\n",
        "\n",
        "# 저장\n",
        "with open(\"recommend_results.sql\", \"w\", encoding=\"utf-8\") as f:\n",
        "    f.write(\"\\n\".join(insert_sqls))\n"
      ],
      "metadata": {
        "id": "aM4IbMR3uvqx"
      },
      "execution_count": 7,
      "outputs": []
    },
    {
      "cell_type": "markdown",
      "source": [
        "# Step 8: SQL 다운로드"
      ],
      "metadata": {
        "id": "qb7Wj_4BuzjT"
      }
    },
    {
      "cell_type": "code",
      "source": [
        "from google.colab import files\n",
        "files.download(\"recommend_results.sql\")\n"
      ],
      "metadata": {
        "colab": {
          "base_uri": "https://localhost:8080/",
          "height": 17
        },
        "id": "r017OqKtu2bw",
        "outputId": "daa217f3-63df-42aa-8bc4-662d2af48e9b"
      },
      "execution_count": 8,
      "outputs": [
        {
          "output_type": "display_data",
          "data": {
            "text/plain": [
              "<IPython.core.display.Javascript object>"
            ],
            "application/javascript": [
              "\n",
              "    async function download(id, filename, size) {\n",
              "      if (!google.colab.kernel.accessAllowed) {\n",
              "        return;\n",
              "      }\n",
              "      const div = document.createElement('div');\n",
              "      const label = document.createElement('label');\n",
              "      label.textContent = `Downloading \"${filename}\": `;\n",
              "      div.appendChild(label);\n",
              "      const progress = document.createElement('progress');\n",
              "      progress.max = size;\n",
              "      div.appendChild(progress);\n",
              "      document.body.appendChild(div);\n",
              "\n",
              "      const buffers = [];\n",
              "      let downloaded = 0;\n",
              "\n",
              "      const channel = await google.colab.kernel.comms.open(id);\n",
              "      // Send a message to notify the kernel that we're ready.\n",
              "      channel.send({})\n",
              "\n",
              "      for await (const message of channel.messages) {\n",
              "        // Send a message to notify the kernel that we're ready.\n",
              "        channel.send({})\n",
              "        if (message.buffers) {\n",
              "          for (const buffer of message.buffers) {\n",
              "            buffers.push(buffer);\n",
              "            downloaded += buffer.byteLength;\n",
              "            progress.value = downloaded;\n",
              "          }\n",
              "        }\n",
              "      }\n",
              "      const blob = new Blob(buffers, {type: 'application/binary'});\n",
              "      const a = document.createElement('a');\n",
              "      a.href = window.URL.createObjectURL(blob);\n",
              "      a.download = filename;\n",
              "      div.appendChild(a);\n",
              "      a.click();\n",
              "      div.remove();\n",
              "    }\n",
              "  "
            ]
          },
          "metadata": {}
        },
        {
          "output_type": "display_data",
          "data": {
            "text/plain": [
              "<IPython.core.display.Javascript object>"
            ],
            "application/javascript": [
              "download(\"download_9586376b-e5cf-4c44-a8d1-ec8fd8c413df\", \"recommend_results.sql\", 69791)"
            ]
          },
          "metadata": {}
        }
      ]
    }
  ]
}
